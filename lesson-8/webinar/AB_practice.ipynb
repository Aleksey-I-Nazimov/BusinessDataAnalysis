{
 "cells": [
  {
   "cell_type": "markdown",
   "metadata": {},
   "source": [
    "*** Материал переработан. Исходник содержал много мусора.\n",
    "### Занятие 8. АБ-тестирование (проверяем все в онлайн-экспериментах)"
   ]
  },
  {
   "cell_type": "markdown",
   "metadata": {},
   "source": [
    "### План занятия\n",
    "\n",
    "1. вспоминаем самое первое занятие\n",
    "2. \"типичное\" устройство АБ-тестов\n",
    "3. метрики для сравнения\n",
    "4. оценка размера выборки ДО проведения эксперимента\n",
    "5. параметрические и непараметрические критерии"
   ]
  },
  {
   "cell_type": "markdown",
   "metadata": {},
   "source": [
    "Пример как может выглядеть решение задачи бизнеса с помощью ML\n",
    "\n",
    "<img src=\"tdsp-lifecycle2.png\" alt=\"TDSP\" style=\"width: 800px;\" align=\"center\"/>"
   ]
  },
  {
   "cell_type": "markdown",
   "metadata": {},
   "source": [
    "Если же сделать процесс более \"линейным\", то он может выглядеть так:\n",
    "\n",
    "Проблема -> Анализ -> Продуктовая гипотеза -> Метрики и критерии приемки -> ML решение -> AB-тестирование -> Оценка результатов -> Интеграция с другими командами"
   ]
  },
  {
   "cell_type": "markdown",
   "metadata": {},
   "source": [
    "#### Что такое \"продуктовая гипотеза\"?"
   ]
  },
  {
   "cell_type": "markdown",
   "metadata": {},
   "source": [
    "Предположение о том, что мы ожидаем при том или ином изменении в продукте (новый функционал вроде системы рекомендаций или улучшение уже существующего). Под изменением обычно подразумевается улучшение некоторой бизнес-метрики. "
   ]
  },
  {
   "cell_type": "markdown",
   "metadata": {},
   "source": [
    "### Пример - сервис для чтения книг онлайн"
   ]
  },
  {
   "cell_type": "markdown",
   "metadata": {},
   "source": [
    "- чтение книг онлайн\n",
    "- монетизация в основном за счет подписок + платный контент\n",
    "- стабильный DAU**\n",
    "<img src=\"books.png\" alt=\"reading\" style=\"width: 400px;\" align=\"right\"/>\n",
    "\n",
    "** DAU (daily active users) - число уникальных пользователей за сутки"
   ]
  },
  {
   "cell_type": "markdown",
   "metadata": {},
   "source": [
    "Что же мы хотим сделать? - улучшить наш сервис, чтобы он стал более удобным для пользователей и более прибыльным для бизнеса."
   ]
  },
  {
   "cell_type": "markdown",
   "metadata": {},
   "source": [
    "Один из вариантов это сделать - <b>персональные рекомендации</b>**\n",
    "\n",
    "** по персональным рекомендациям и как такие системы строятся - есть курс на geekbrains"
   ]
  },
  {
   "cell_type": "markdown",
   "metadata": {},
   "source": [
    "Предположим, что мы со своей частью справляемся и можем сделать простейшую систему рекомендаций книг.\n",
    "\n",
    "Что дальше?"
   ]
  },
  {
   "cell_type": "markdown",
   "metadata": {},
   "source": [
    "## Сразу в \"прод\"?\n",
    "<img src=\"good_enough.jpg\" alt=\"good_enough\" style=\"width: 200px;\" align=\"center\"/>"
   ]
  },
  {
   "cell_type": "markdown",
   "metadata": {},
   "source": [
    "## Конечно же нет!"
   ]
  },
  {
   "cell_type": "markdown",
   "metadata": {},
   "source": [
    "#### Что нам нужно сделать?\n",
    "\n",
    "1. Формулировка задачи и выбор метрики (DS)\n",
    "2. Сбор данных и подготовка датасета\n",
    "3. Построение модели (обучение)\n",
    "4. Оборачивание всего этого в пайплайн обучения (для того, чтобы использовать в production)\n",
    "5. Оценка результатов и проведение экспериментов\n",
    "6. Мониторинг качества, логгирование"
   ]
  },
  {
   "cell_type": "markdown",
   "metadata": {},
   "source": [
    "### Практический пример 1\n",
    "\n",
    "Допустим, что мы занимаемся рекомендациями в интернет-магазине.<br>\n",
    "У нас уже есть рекомендательная система на основе метода A. \n",
    "\n",
    "При этом в результате исследований метод B показал лучшие по сравнению с А офлайн-метрики (обычно ML-метрики)"
   ]
  },
  {
   "cell_type": "markdown",
   "metadata": {},
   "source": [
    "Означает ли, что такое решение будет лучше и с точки зрения бизнес-метрик? - Необязательно, мы должны будем это проверить. "
   ]
  },
  {
   "cell_type": "markdown",
   "metadata": {},
   "source": [
    "#### Вопрос 1\n",
    "А что если альтернативных вариантов очень много - как выбирать? \n",
    "\n",
    "#### Вопрос 2\n",
    "Почему мы не можем тестировать их все? Или можем?"
   ]
  },
  {
   "cell_type": "markdown",
   "metadata": {},
   "source": [
    "#### Вопрос 3\n",
    "Можно ли измерять сразу несколько метрик?"
   ]
  },
  {
   "cell_type": "markdown",
   "metadata": {},
   "source": [
    "#### Вопрос 4\n",
    "Какие вы можете придумать \"комбинированные\" метрики?"
   ]
  },
  {
   "cell_type": "markdown",
   "metadata": {},
   "source": [
    "### Метрика для нашего примера?\n",
    "\n",
    "В случае с рекомендательной системой может быть много разных метрик, которые нам в итоге будут интересны:\n",
    "\n",
    "1. arpu (average revenue per user) - средняя выручка одного пользователя\n",
    "2. appu (average purchases per user) - среднее количество покупок на пользователя\n",
    "3. crp (conversion rate payment) - доля пользователей, совершивших платеж\n",
    "4. retention_N_day - удержание N-го дня\n",
    "5. etc\n",
    "\n",
    "*не всегда эти метрики связаны с revenue (например, количество кликов по баннеру или количество кликов по рекомендуемому фильму/книге/песне и т.д)"
   ]
  },
  {
   "cell_type": "markdown",
   "metadata": {},
   "source": [
    "### АБ тестирование\n",
    "\n",
    "Предположим что с метрикой мы определились (вообще - на практике обычно измеряют сразу несколько метрик).\n",
    "\n",
    "Далее мы собрали данные и обучили новую рекомендательную модель. Настало время проверить ее на практике и сравнить по выбранным метрикам с текущим решением!\n",
    "\n",
    "Как может быть устроен АБ-тест:"
   ]
  },
  {
   "cell_type": "markdown",
   "metadata": {},
   "source": [
    "#### Как обычно проходит тест:\n",
    "\n",
    "1. случайно разбиваем аудиторию на две группы: A (обычно ее называют \"контролем\") и B (группа \"экспериментальная\")\n",
    "2. группа А - текущий вариант модели в проде. Группа B - наша новая модель\n",
    "3. по окончанию эксперимента мы сравниваем бизнес-метрику (вероятно даже не одну) в каждой из групп с помощью <b>статистического теста</b>"
   ]
  },
  {
   "cell_type": "markdown",
   "metadata": {},
   "source": [
    "![ab_split](ab1.png \"AB split\")"
   ]
  },
  {
   "cell_type": "markdown",
   "metadata": {},
   "source": [
    "Конечно же групп может быть гораздо больше (если позволяет размер аудитории и дизайн эксперимента), но такой случай не только самый простой в плане проведения, но и оценки результатов. "
   ]
  },
  {
   "cell_type": "markdown",
   "metadata": {},
   "source": [
    "Итак, предположим, что мы запустили АБ тест и подождали, когда накопится статистика"
   ]
  },
  {
   "cell_type": "markdown",
   "metadata": {},
   "source": [
    "Ожидаем что после введения системы DailyActiveUsers вырастит</br>\n",
    "Если эксперимент уже проведен, получилась разница между двумя группами, </br>\n",
    "остается понять насколько эта разница статистически значима</br>\n",
    "Две гипотезы: 1) Нулевая - наблюдаемые значения незначимы 2) Алтернативная - различия значимы</br>\n",
    "Методы:</br>\n",
    "    1. Сформулировать гипотезы</br>\n",
    "    2. Выбрать стат критерий, исходя из сформулированных гипотез, размера выборок и т. д.</br>\n",
    "    3. Зафиксировать уровень значимости alpha</br>\n",
    "    4. Рассчитать уровень значимости: p=P(T>=t|H0)</br>\n",
    "    5. В зависимости от результатов пункта 4. Если верна нулевая гипотеза то альтернативная нет. Если неверная, то алтернативная верная </br>\n",
    "</br>\n",
    "Ошибка первого рода - неправильно отвергли нулевую гипотезу</br>\n",
    "Ошибка второго рода - подтвердили на самом деле ложную нулевую гипотезу</br>\n",
    "</br>\n",
    "________________________ верная | ложная</br>\n",
    "принимается_____________      TP       FP</br>\n",
    "отклоняется_____________      FN       TN</br>\n",
    "</br>\n",
    "FN - неправильно отклонена. Ошибка первого рода</br>\n",
    "FP - неправильно принята. Ошибка второго рода</br>\n",
    "</br>\n",
    "В механизме проверки гипотез ошибки первого рода неравнозначны, ошибка первого рода критичнее, любой<br>\n",
    "корректный статистический критерий должен обеспечивать вероятность ошибки первого рода не больше чем alpha.</br>\n",
    "Ошибка второго рода связана с понятием мощности статистического критерия.</br>\n",
    "\n",
    "\n",
    "\n",
    "\n"
   ]
  },
  {
   "cell_type": "markdown",
   "metadata": {},
   "source": [
    "Хороший пример со студентами. Студент пришел на экзамен. Преподаватель должен понять учил студент или не учил. Если студент</br>\n",
    "учил и пришел то это нулевая гипотеза. Алтернативная гипотеза, если студент не учил и пришел. Ошибка второго рода здесь если</br> неученый студент пришедший будет распознан как ученый. Ошибка первого рода если ученый студент будет распознан как неученый.</br>"
   ]
  },
  {
   "cell_type": "markdown",
   "metadata": {},
   "source": [
    "Если гипотеза опирается на вещественные числа. В этом случае важно понять нормальное ли распределение или нет.</br>\n",
    "<b><i>Проверка делается засчет теста Шапиро.</b></i></br></br> <b><i>Для нормального распределения работает критерий Стьюдента. Для ненормального<br>\n",
    "работает критерий Манна-Уитни.</b></i><br>\n",
    "</br>\n",
    "<b><i>Елси гипотеза опирается на категориальный признак. В этом случае важно понять бинарный ли диапазон значений. Если бинарный<br>\n",
    "то имеется только два значения и здесь нужно рассматривать Z - критерий. Если не бинарный то критерий Хи квадрат<br>\n",
    "</b></i></br>\n",
    "<b><i>Во всех четырех тестах получаем p_value. Если p_value>0.05 то принимается нулевая гипотеза. Если меньше, то <br> альтернативная </b></i>\n"
   ]
  },
  {
   "cell_type": "markdown",
   "metadata": {},
   "source": [
    "Загрузим данные"
   ]
  },
  {
   "cell_type": "code",
   "execution_count": 63,
   "metadata": {},
   "outputs": [],
   "source": [
    "import pandas as pd"
   ]
  },
  {
   "cell_type": "code",
   "execution_count": 64,
   "metadata": {},
   "outputs": [
    {
     "data": {
      "text/plain": [
       "revenue      num_purchases  purchase  ab_group\n",
       "0.000000     0.0            0         B           11583\n",
       "                                      A           11579\n",
       "1.990000     1.0            1         B              22\n",
       "                                      A              20\n",
       "4.990000     1.0            1         B              12\n",
       "                                                  ...  \n",
       "2.500466     1.0            1         B               1\n",
       "2.500399     1.0            1         A               1\n",
       "2.494660     1.0            1         A               1\n",
       "2.490148     1.0            1         B               1\n",
       "1303.609284  152.0          1         A               1\n",
       "Name: count, Length: 389, dtype: int64"
      ]
     },
     "execution_count": 64,
     "metadata": {},
     "output_type": "execute_result"
    }
   ],
   "source": [
    "data = pd.read_csv(\"ab_stats.csv\")\n",
    "data.value_counts()"
   ]
  },
  {
   "cell_type": "code",
   "execution_count": 65,
   "metadata": {},
   "outputs": [
    {
     "name": "stdout",
     "output_type": "stream",
     "text": [
      "<class 'pandas.core.frame.DataFrame'>\n",
      "RangeIndex: 23652 entries, 0 to 23651\n",
      "Data columns (total 4 columns):\n",
      " #   Column         Non-Null Count  Dtype  \n",
      "---  ------         --------------  -----  \n",
      " 0   revenue        23652 non-null  float64\n",
      " 1   num_purchases  23652 non-null  float64\n",
      " 2   purchase       23652 non-null  int64  \n",
      " 3   ab_group       23652 non-null  object \n",
      "dtypes: float64(2), int64(1), object(1)\n",
      "memory usage: 739.2+ KB\n"
     ]
    }
   ],
   "source": [
    "data.info()"
   ]
  },
  {
   "cell_type": "code",
   "execution_count": 66,
   "metadata": {},
   "outputs": [
    {
     "data": {
      "text/plain": [
       "Index(['revenue', 'num_purchases', 'purchase', 'ab_group'], dtype='object')"
      ]
     },
     "execution_count": 66,
     "metadata": {},
     "output_type": "execute_result"
    }
   ],
   "source": [
    "data.columns"
   ]
  },
  {
   "cell_type": "markdown",
   "metadata": {},
   "source": [
    "Посмотрим на группы отдельно"
   ]
  },
  {
   "cell_type": "code",
   "execution_count": 67,
   "metadata": {},
   "outputs": [
    {
     "data": {
      "text/html": [
       "<div>\n",
       "<style scoped>\n",
       "    .dataframe tbody tr th:only-of-type {\n",
       "        vertical-align: middle;\n",
       "    }\n",
       "\n",
       "    .dataframe tbody tr th {\n",
       "        vertical-align: top;\n",
       "    }\n",
       "\n",
       "    .dataframe thead th {\n",
       "        text-align: right;\n",
       "    }\n",
       "</style>\n",
       "<table border=\"1\" class=\"dataframe\">\n",
       "  <thead>\n",
       "    <tr style=\"text-align: right;\">\n",
       "      <th></th>\n",
       "      <th>revenue</th>\n",
       "      <th>num_purchases</th>\n",
       "      <th>purchase</th>\n",
       "    </tr>\n",
       "  </thead>\n",
       "  <tbody>\n",
       "    <tr>\n",
       "      <th>count</th>\n",
       "      <td>11835.000000</td>\n",
       "      <td>11835.000000</td>\n",
       "      <td>11835.000000</td>\n",
       "    </tr>\n",
       "    <tr>\n",
       "      <th>mean</th>\n",
       "      <td>0.404462</td>\n",
       "      <td>0.050697</td>\n",
       "      <td>0.021631</td>\n",
       "    </tr>\n",
       "    <tr>\n",
       "      <th>std</th>\n",
       "      <td>13.133218</td>\n",
       "      <td>1.467511</td>\n",
       "      <td>0.145481</td>\n",
       "    </tr>\n",
       "    <tr>\n",
       "      <th>min</th>\n",
       "      <td>0.000000</td>\n",
       "      <td>0.000000</td>\n",
       "      <td>0.000000</td>\n",
       "    </tr>\n",
       "    <tr>\n",
       "      <th>25%</th>\n",
       "      <td>0.000000</td>\n",
       "      <td>0.000000</td>\n",
       "      <td>0.000000</td>\n",
       "    </tr>\n",
       "    <tr>\n",
       "      <th>50%</th>\n",
       "      <td>0.000000</td>\n",
       "      <td>0.000000</td>\n",
       "      <td>0.000000</td>\n",
       "    </tr>\n",
       "    <tr>\n",
       "      <th>75%</th>\n",
       "      <td>0.000000</td>\n",
       "      <td>0.000000</td>\n",
       "      <td>0.000000</td>\n",
       "    </tr>\n",
       "    <tr>\n",
       "      <th>max</th>\n",
       "      <td>1303.609284</td>\n",
       "      <td>152.000000</td>\n",
       "      <td>1.000000</td>\n",
       "    </tr>\n",
       "  </tbody>\n",
       "</table>\n",
       "</div>"
      ],
      "text/plain": [
       "            revenue  num_purchases      purchase\n",
       "count  11835.000000   11835.000000  11835.000000\n",
       "mean       0.404462       0.050697      0.021631\n",
       "std       13.133218       1.467511      0.145481\n",
       "min        0.000000       0.000000      0.000000\n",
       "25%        0.000000       0.000000      0.000000\n",
       "50%        0.000000       0.000000      0.000000\n",
       "75%        0.000000       0.000000      0.000000\n",
       "max     1303.609284     152.000000      1.000000"
      ]
     },
     "execution_count": 67,
     "metadata": {},
     "output_type": "execute_result"
    }
   ],
   "source": [
    "# Selecting the group A:-------------------------------\n",
    "a_group = data[data['ab_group']=='A']\n",
    "a_group.describe()\n"
   ]
  },
  {
   "cell_type": "markdown",
   "metadata": {},
   "source": [
    "Группа B"
   ]
  },
  {
   "cell_type": "code",
   "execution_count": 68,
   "metadata": {},
   "outputs": [
    {
     "data": {
      "text/html": [
       "<div>\n",
       "<style scoped>\n",
       "    .dataframe tbody tr th:only-of-type {\n",
       "        vertical-align: middle;\n",
       "    }\n",
       "\n",
       "    .dataframe tbody tr th {\n",
       "        vertical-align: top;\n",
       "    }\n",
       "\n",
       "    .dataframe thead th {\n",
       "        text-align: right;\n",
       "    }\n",
       "</style>\n",
       "<table border=\"1\" class=\"dataframe\">\n",
       "  <thead>\n",
       "    <tr style=\"text-align: right;\">\n",
       "      <th></th>\n",
       "      <th>revenue</th>\n",
       "      <th>num_purchases</th>\n",
       "      <th>purchase</th>\n",
       "    </tr>\n",
       "  </thead>\n",
       "  <tbody>\n",
       "    <tr>\n",
       "      <th>count</th>\n",
       "      <td>11817.000000</td>\n",
       "      <td>11817.000000</td>\n",
       "      <td>11817.000000</td>\n",
       "    </tr>\n",
       "    <tr>\n",
       "      <th>mean</th>\n",
       "      <td>0.244794</td>\n",
       "      <td>0.036473</td>\n",
       "      <td>0.019802</td>\n",
       "    </tr>\n",
       "    <tr>\n",
       "      <th>std</th>\n",
       "      <td>3.176534</td>\n",
       "      <td>0.418480</td>\n",
       "      <td>0.139325</td>\n",
       "    </tr>\n",
       "    <tr>\n",
       "      <th>min</th>\n",
       "      <td>0.000000</td>\n",
       "      <td>0.000000</td>\n",
       "      <td>0.000000</td>\n",
       "    </tr>\n",
       "    <tr>\n",
       "      <th>25%</th>\n",
       "      <td>0.000000</td>\n",
       "      <td>0.000000</td>\n",
       "      <td>0.000000</td>\n",
       "    </tr>\n",
       "    <tr>\n",
       "      <th>50%</th>\n",
       "      <td>0.000000</td>\n",
       "      <td>0.000000</td>\n",
       "      <td>0.000000</td>\n",
       "    </tr>\n",
       "    <tr>\n",
       "      <th>75%</th>\n",
       "      <td>0.000000</td>\n",
       "      <td>0.000000</td>\n",
       "      <td>0.000000</td>\n",
       "    </tr>\n",
       "    <tr>\n",
       "      <th>max</th>\n",
       "      <td>113.830000</td>\n",
       "      <td>25.000000</td>\n",
       "      <td>1.000000</td>\n",
       "    </tr>\n",
       "  </tbody>\n",
       "</table>\n",
       "</div>"
      ],
      "text/plain": [
       "            revenue  num_purchases      purchase\n",
       "count  11817.000000   11817.000000  11817.000000\n",
       "mean       0.244794       0.036473      0.019802\n",
       "std        3.176534       0.418480      0.139325\n",
       "min        0.000000       0.000000      0.000000\n",
       "25%        0.000000       0.000000      0.000000\n",
       "50%        0.000000       0.000000      0.000000\n",
       "75%        0.000000       0.000000      0.000000\n",
       "max      113.830000      25.000000      1.000000"
      ]
     },
     "execution_count": 68,
     "metadata": {},
     "output_type": "execute_result"
    }
   ],
   "source": [
    "# Selecting the group B:-------------------------------\n",
    "b_group = data[data['ab_group']=='B']\n",
    "b_group.describe()\n"
   ]
  },
  {
   "cell_type": "markdown",
   "metadata": {},
   "source": [
    "Пока мы еще ничего не посчитали, но уже можно заметить, что максимальный чек в первой группе сильно больше, чем в группе B. Все мы знаем, что среднее очень неустойчиво к выбросам, так что нам необходимо будет это учесть."
   ]
  },
  {
   "cell_type": "markdown",
   "metadata": {},
   "source": [
    "Итак, начнем с того, что рассмотрим, какие вообще бывают статистические критерии"
   ]
  },
  {
   "cell_type": "markdown",
   "metadata": {},
   "source": [
    "![ab_split](classification-non-parametric-1.png \"AB parametric\")"
   ]
  },
  {
   "cell_type": "markdown",
   "metadata": {},
   "source": [
    "Если мы делаем предположение о нормальности распределения выбранной величины, то мы выбираем параметрические критерии - они как правило в такой ситуации являются более мощными.\n",
    "\n",
    "Если же мы не может делать такое предположение, то наш выбор - непараметрические критерии."
   ]
  },
  {
   "cell_type": "markdown",
   "metadata": {},
   "source": [
    "Параметрические тесты основаны на нормальном распределении. Вспомним как оно выглядит:\n",
    "\n",
    "<img src=\"normal_distr.png\" alt=\"Normal distribution\" style=\"width: 560px;\" align=\"center\"/>\n",
    "\n",
    "Нормальное распределение:\n",
    "\n",
    "* унимодально\n",
    "* симметрично\n",
    "* отклонения от среднего подчиняются конкретному вероятностному закону\n",
    "\n",
    "Например: \n",
    "1. в диапазоне +- 1sigma* у нас лежит примерно 68.3% наблюдений \n",
    "2. в диапазоне +- 2sigma у нас лежит примерно 95.4% наблюдений\n",
    "\n",
    "*sigma - стандартное отклонение"
   ]
  },
  {
   "cell_type": "markdown",
   "metadata": {},
   "source": [
    "<b>Почему для нас это важно?</b> - вспомним центральную предельную теорему"
   ]
  },
  {
   "cell_type": "markdown",
   "metadata": {},
   "source": [
    "<b>Пример задачи</b>\n",
    "\n",
    "Вам дают монетку и просят оценить, насколько она \"честная\". Т.е вас просят сравнить значение вероятности выпадения орла с теоретическим значением 0.5.\n",
    "\n",
    "По центральной предельной теореме (https://en.wikipedia.org/wiki/Central_limit_theorem), если мы будем семплировать и считать средние, то распределение этих средних будет <b>нормальным</b> и позволит нам оценить истинное значение некоторого параметра в генеральной совокупности. \n",
    "\n",
    "![CLT](CPT.png \"Central limit theorem\")\n",
    "\n",
    "Например, мы пытаемся оценить значение некоторого параметра по имеющейся выборке (обозначим как X). Допустим, что это вероятность выпадения орла в серии бросков одной и той же монетки (обозначим данный параметр как p). У нас схема Бернулли, зависящая от параметра p (он нам неизвестен).\n",
    "\n",
    "![bernouli](bernouli.png \"bernouli\")\n",
    "\n",
    "Мы проводим серию бросков, а затем начинаем семлировать из полученной выборки и считать долю выпавших орлов на каждом шаге (k раз). Получаем уже последовательность из k выборочных значений вероятности выпадения орла (выборочные средние). Далее строим распределение из полученных значений и оно, по мере увеличения семплов, будет все больше похоже на нормальное. \n",
    "\n",
    "При этом параметры такого распределения будут mu и <b>s</b>, где mu - истинное значение параметра в генеральной совокупности, а s называют стандартной ошибкой среднего (<b>SE</b> - Standard Error).\n",
    "\n",
    "![cpt1](cpt1.png \"CPT\")\n",
    "\n",
    "Здесь s - это стандартное отклонение нашей выборки, n - размер выборки\n",
    "\n",
    "s рассчитывается так, потому что у нас распределение Бернулли и формулы для него такие:\n",
    "\n",
    "![bernouli2](bernouli2.png \"bernouli2\")\n",
    "\n",
    "Математическое ожидание такого распределения равно выборочному p, а стандартное отклонение SE.\n",
    "\n",
    "Получаем:\n",
    "1. нормальное распределение\n",
    "2. параметры известны (математическое ожидание и дисперсия)\n",
    "3. можем рассчитать доверительные интервалы и делать выводы"
   ]
  },
  {
   "cell_type": "markdown",
   "metadata": {},
   "source": [
    "Критериев вообще существует великое множество, но выбор конкретного критерия будет также зависеть и от того, какая у вас метрика:"
   ]
  },
  {
   "cell_type": "markdown",
   "metadata": {},
   "source": [
    "источник - http://www.market-journal.com/marketingovyeissledovanija/161.html\n",
    "\n",
    "<img src=\"parametric_nonparametric.jpg\" alt=\"AB parametric/nonparametric\" style=\"width: 600px;\" align=\"center\"/>"
   ]
  },
  {
   "cell_type": "markdown",
   "metadata": {},
   "source": [
    "Итак, давайте рассмотрем на нашем примере"
   ]
  },
  {
   "cell_type": "code",
   "execution_count": 175,
   "metadata": {},
   "outputs": [
    {
     "data": {
      "text/html": [
       "<div>\n",
       "<style scoped>\n",
       "    .dataframe tbody tr th:only-of-type {\n",
       "        vertical-align: middle;\n",
       "    }\n",
       "\n",
       "    .dataframe tbody tr th {\n",
       "        vertical-align: top;\n",
       "    }\n",
       "\n",
       "    .dataframe thead th {\n",
       "        text-align: right;\n",
       "    }\n",
       "</style>\n",
       "<table border=\"1\" class=\"dataframe\">\n",
       "  <thead>\n",
       "    <tr style=\"text-align: right;\">\n",
       "      <th></th>\n",
       "      <th>revenue</th>\n",
       "      <th>num_purchases</th>\n",
       "      <th>purchase</th>\n",
       "      <th>ab_group</th>\n",
       "    </tr>\n",
       "  </thead>\n",
       "  <tbody>\n",
       "    <tr>\n",
       "      <th>0</th>\n",
       "      <td>0.0</td>\n",
       "      <td>0.0</td>\n",
       "      <td>0</td>\n",
       "      <td>A</td>\n",
       "    </tr>\n",
       "    <tr>\n",
       "      <th>1</th>\n",
       "      <td>0.0</td>\n",
       "      <td>0.0</td>\n",
       "      <td>0</td>\n",
       "      <td>B</td>\n",
       "    </tr>\n",
       "    <tr>\n",
       "      <th>2</th>\n",
       "      <td>0.0</td>\n",
       "      <td>0.0</td>\n",
       "      <td>0</td>\n",
       "      <td>A</td>\n",
       "    </tr>\n",
       "  </tbody>\n",
       "</table>\n",
       "</div>"
      ],
      "text/plain": [
       "   revenue  num_purchases  purchase ab_group\n",
       "0      0.0            0.0         0        A\n",
       "1      0.0            0.0         0        B\n",
       "2      0.0            0.0         0        A"
      ]
     },
     "execution_count": 175,
     "metadata": {},
     "output_type": "execute_result"
    }
   ],
   "source": [
    "data.head(3)"
   ]
  },
  {
   "cell_type": "code",
   "execution_count": 176,
   "metadata": {},
   "outputs": [
    {
     "data": {
      "text/plain": [
       "purchase\n",
       "0    23162\n",
       "1      490\n",
       "Name: count, dtype: int64"
      ]
     },
     "execution_count": 176,
     "metadata": {},
     "output_type": "execute_result"
    }
   ],
   "source": [
    "data['purchase'].value_counts()"
   ]
  },
  {
   "cell_type": "markdown",
   "metadata": {},
   "source": [
    "### Рассмотрим столбец PURCHASE.<br>\n",
    "\n",
    "purchase - это как раз таки бинарный показатель, является ли пользователем платящим или нет.\n",
    "\n",
    "Наиболее очевидным статистическим критерием для нашего случая выглядит z-критерий."
   ]
  },
  {
   "cell_type": "markdown",
   "metadata": {},
   "source": [
    "Давайте здесь сделаем шаг назад и поймем, а что нам вообще может \"рассказать\" статистический критерий (тест)"
   ]
  },
  {
   "cell_type": "markdown",
   "metadata": {},
   "source": [
    "У нас 2 гипотезы:\n",
    "- \"нулевая\" (H0) - наблюдаемые различия незначимы\n",
    "- \"альтернативная\" (H1) - различия значимы"
   ]
  },
  {
   "cell_type": "markdown",
   "metadata": {},
   "source": [
    "Мы хотим получить вероятность того, что наблюдаемые различия неслучайны!"
   ]
  },
  {
   "cell_type": "markdown",
   "metadata": {},
   "source": [
    "#### Теперь к нашей первой метрике - конверсии в платящего (у нас это столбец purchase)\n",
    "\n",
    "Т.к у нас метрика - доля (конверсия), то применяем z-критерий"
   ]
  },
  {
   "cell_type": "markdown",
   "metadata": {},
   "source": [
    "![z_score](z_score.png \"Z score\")"
   ]
  },
  {
   "cell_type": "markdown",
   "metadata": {},
   "source": [
    "Гипотезы"
   ]
  },
  {
   "cell_type": "markdown",
   "metadata": {},
   "source": [
    "![z_score_H01](z_score_H01.png \"Z score H0/H1\")"
   ]
  },
  {
   "cell_type": "markdown",
   "metadata": {},
   "source": [
    "Применим z-критерий"
   ]
  },
  {
   "cell_type": "markdown",
   "metadata": {},
   "source": [
    "![z_score_SE](z_score_SE.png \"Z score SE\")"
   ]
  },
  {
   "cell_type": "markdown",
   "metadata": {},
   "source": [
    "- В числителе - разность выборочных конверсий (получившихся в результате эксперимента)\n",
    "- В знаменателе - так называемая стандартная ошибка среднего (SE)"
   ]
  },
  {
   "cell_type": "markdown",
   "metadata": {},
   "source": [
    "Посчитаем z-критерий \"вручную\""
   ]
  },
  {
   "cell_type": "code",
   "execution_count": 177,
   "metadata": {},
   "outputs": [
    {
     "name": "stdout",
     "output_type": "stream",
     "text": [
      "256 234 11835 11817\n",
      "0.02163075623151669 0.019801980198019802\n"
     ]
    }
   ],
   "source": [
    "import numpy as np\n",
    "\n",
    "\n",
    "# Let's determine the table dictionary value:-----------------------------------------------\n",
    "z_crit_value = 1.96 # corresponds to 95%\n",
    "\n",
    "# Lets analyze the A,B groups by Z - criteria:----------------------------------------------\n",
    "k1, n1 = a_group['purchase'].sum(), a_group.shape[0]\n",
    "k2, n2 = b_group['purchase'].sum(), b_group.shape[0]\n",
    "print (k1, k2, n1, n2)\n",
    "p1, p2 = k1/n1, k2/n2\n",
    "print (p1, p2)"
   ]
  },
  {
   "cell_type": "markdown",
   "metadata": {},
   "source": [
    "Посчитаем z-score:\n",
    "\n",
    "![z_score_SE](z_score_SE.png \"Z score SE\")"
   ]
  },
  {
   "cell_type": "code",
   "execution_count": 178,
   "metadata": {},
   "outputs": [
    {
     "data": {
      "text/plain": [
       "0.987293179904521"
      ]
     },
     "execution_count": 178,
     "metadata": {},
     "output_type": "execute_result"
    }
   ],
   "source": [
    "P = (p1*n1+p2*n2)/(n1+n2)\n",
    "z = (p1-p2)/(P*(1-P)*(1/n1+1/n2))**(1/2)\n",
    "z"
   ]
  },
  {
   "cell_type": "markdown",
   "metadata": {},
   "source": [
    "#### Сравним полученное значение с критическим, выбранным ранее"
   ]
  },
  {
   "cell_type": "code",
   "execution_count": 179,
   "metadata": {},
   "outputs": [
    {
     "name": "stdout",
     "output_type": "stream",
     "text": [
      "We have failed to reject the null hypothesis\n"
     ]
    }
   ],
   "source": [
    "if abs(z) > z_crit_value:\n",
    "    print(\"We may reject the null hypothesis!\")\n",
    "else:\n",
    "    print(\"We have failed to reject the null hypothesis\")"
   ]
  },
  {
   "cell_type": "markdown",
   "metadata": {},
   "source": [
    "#### z-критерий, но уже воспользуемся возможностями библиотеки"
   ]
  },
  {
   "cell_type": "code",
   "execution_count": 180,
   "metadata": {},
   "outputs": [
    {
     "name": "stdout",
     "output_type": "stream",
     "text": [
      "Results are  z_score =0.987, pvalue = 0.323\n",
      "We have failed to reject the null hypothesis\n"
     ]
    }
   ],
   "source": [
    "from statsmodels.stats import proportion\n",
    "\n",
    "z_score, z_pvalue = proportion.proportions_ztest(np.array([k1, k2]),np.array([n1, n2]))\n",
    "\n",
    "print('Results are ','z_score =%.3f, pvalue = %.3f'%(z_score, z_pvalue))\n",
    "\n",
    "if abs(z) > z_crit_value:\n",
    "    print(\"We may reject the null hypothesis!\")\n",
    "else:\n",
    "    print(\"We have failed to reject the null hypothesis\")"
   ]
  },
  {
   "cell_type": "code",
   "execution_count": 181,
   "metadata": {},
   "outputs": [
    {
     "name": "stdout",
     "output_type": "stream",
     "text": [
      "Results are  chisq =0.975, pvalue = 0.323\n"
     ]
    }
   ],
   "source": [
    "# Аlternative algorithm => chisquare\n",
    "chisq, pvalue, table = proportion.proportions_chisquare(np.array([k1, k2]),np.array([n1, n2]))\n",
    "\n",
    "print('Results are ','chisq =%.3f, pvalue = %.3f'%(chisq, pvalue))"
   ]
  },
  {
   "cell_type": "markdown",
   "metadata": {},
   "source": [
    "#### Нулевая гипотеза принята == выборки статистически одинаковы по PURCHASE</br>\n"
   ]
  },
  {
   "cell_type": "markdown",
   "metadata": {},
   "source": [
    "### Рассмотрим теперь столбец REVENUE<br>\n",
    "Этот показатель непрерывен поэтому мы должны сделать тестирование на нормальность.<br>\n",
    "Оценим нормальность распределения по Шапиро<br>"
   ]
  },
  {
   "cell_type": "code",
   "execution_count": 182,
   "metadata": {},
   "outputs": [
    {
     "name": "stderr",
     "output_type": "stream",
     "text": [
      "C:\\Users\\Alex\\AppData\\Roaming\\Python\\Python39\\site-packages\\scipy\\stats\\_morestats.py:1882: UserWarning: p-value may not be accurate for N > 5000.\n",
      "  warnings.warn(\"p-value may not be accurate for N > 5000.\")\n"
     ]
    },
    {
     "data": {
      "text/plain": [
       "ShapiroResult(statistic=0.011638760566711426, pvalue=0.0)"
      ]
     },
     "execution_count": 182,
     "metadata": {},
     "output_type": "execute_result"
    }
   ],
   "source": [
    "from scipy.stats import shapiro\n",
    "\n",
    "shapiro(data['revenue'])"
   ]
  },
  {
   "cell_type": "markdown",
   "metadata": {},
   "source": [
    "#### Мы получили pvalue < 0.05. Это значит, что распределение ненормальное. Если p_value более 0.05, то распределение нормальное"
   ]
  },
  {
   "cell_type": "markdown",
   "metadata": {},
   "source": [
    "Для ненормального распределения тестируем по Maнну-Уитни. Для нормального по стьюденту."
   ]
  },
  {
   "cell_type": "code",
   "execution_count": 183,
   "metadata": {},
   "outputs": [
    {
     "data": {
      "text/plain": [
       "MannwhitneyuResult(statistic=70054756.0, pvalue=0.3243889561742552)"
      ]
     },
     "execution_count": 183,
     "metadata": {},
     "output_type": "execute_result"
    }
   ],
   "source": [
    "from scipy.stats import mannwhitneyu\n",
    "\n",
    "mw = mannwhitneyu(x=a_group['revenue'].values,y=b_group['revenue'].values)\n",
    "mw"
   ]
  },
  {
   "cell_type": "markdown",
   "metadata": {},
   "source": [
    "pvalue>0.05 => нулевая гипотеза и выборки похожи. Если pvalue<0.05 меньше то непохожи и альтернативная (аналогично сравнивается и для тест Стьюдента)<br>\n",
    "##### нулевая гипотеза принята == все похоже"
   ]
  },
  {
   "cell_type": "markdown",
   "metadata": {},
   "source": [
    "### Рассмотрим теперь столбец NUM_PURCHASE"
   ]
  },
  {
   "cell_type": "code",
   "execution_count": 184,
   "metadata": {},
   "outputs": [
    {
     "data": {
      "text/plain": [
       "ShapiroResult(statistic=0.014216423034667969, pvalue=0.0)"
      ]
     },
     "execution_count": 184,
     "metadata": {},
     "output_type": "execute_result"
    }
   ],
   "source": [
    "shapiro(data['num_purchases'])"
   ]
  },
  {
   "cell_type": "markdown",
   "metadata": {},
   "source": [
    "#### Мы получили pvalue < 0.05. Это значит, что распределение ненормальное. Если p_value более 0.05, то распределение нормальное"
   ]
  },
  {
   "cell_type": "markdown",
   "metadata": {},
   "source": [
    "Для ненормального распределения тестируем по Maнну-Уитни. Для нормального по стьюденту."
   ]
  },
  {
   "cell_type": "code",
   "execution_count": 185,
   "metadata": {},
   "outputs": [
    {
     "data": {
      "text/plain": [
       "MannwhitneyuResult(statistic=70054599.0, pvalue=0.3249718497892071)"
      ]
     },
     "execution_count": 185,
     "metadata": {},
     "output_type": "execute_result"
    }
   ],
   "source": [
    "from scipy.stats import mannwhitneyu\n",
    "\n",
    "mw = mannwhitneyu(x=a_group['num_purchases'].values,y=b_group['num_purchases'].values)\n",
    "mw"
   ]
  },
  {
   "cell_type": "markdown",
   "metadata": {},
   "source": [
    "pvalue>0.05 => нулевая гипотеза и выборки похожи. Если pvalue<0.05 меньше то непохожи и альтернативная (аналогично сравнивается и для тест Стьюдента)"
   ]
  },
  {
   "cell_type": "markdown",
   "metadata": {},
   "source": [
    "### Выводы:\n",
    "\n",
    "1. ни по одной из метрик мы не видим значимых различий\n",
    "2. скорее всего слишком мало данных для выводов (учитывая базовую конверсию в 2 процента)\n",
    "3. мы также можем посчитать сколько нам понадобится приблизительно пользователей в каждой из групп, чтобы при такой конверсии получить значимость (для этого нам нужно делать предположение о том, какое минимальное изменение нас устраивает - минимально значимый эффект)**\n",
    "\n",
    "** например, мы хотим, чтобы конверсия выросла хотя бы на 10% "
   ]
  },
  {
   "cell_type": "markdown",
   "metadata": {},
   "source": [
    "### Рассмотрим пример с оттока"
   ]
  },
  {
   "cell_type": "code",
   "execution_count": 186,
   "metadata": {},
   "outputs": [
    {
     "data": {
      "text/html": [
       "<div>\n",
       "<style scoped>\n",
       "    .dataframe tbody tr th:only-of-type {\n",
       "        vertical-align: middle;\n",
       "    }\n",
       "\n",
       "    .dataframe tbody tr th {\n",
       "        vertical-align: top;\n",
       "    }\n",
       "\n",
       "    .dataframe thead th {\n",
       "        text-align: right;\n",
       "    }\n",
       "</style>\n",
       "<table border=\"1\" class=\"dataframe\">\n",
       "  <thead>\n",
       "    <tr style=\"text-align: right;\">\n",
       "      <th></th>\n",
       "      <th>RowNumber</th>\n",
       "      <th>CustomerId</th>\n",
       "      <th>Surname</th>\n",
       "      <th>CreditScore</th>\n",
       "      <th>Geography</th>\n",
       "      <th>Gender</th>\n",
       "      <th>Age</th>\n",
       "      <th>Tenure</th>\n",
       "      <th>Balance</th>\n",
       "      <th>NumOfProducts</th>\n",
       "      <th>HasCrCard</th>\n",
       "      <th>IsActiveMember</th>\n",
       "      <th>EstimatedSalary</th>\n",
       "      <th>Exited</th>\n",
       "    </tr>\n",
       "  </thead>\n",
       "  <tbody>\n",
       "    <tr>\n",
       "      <th>0</th>\n",
       "      <td>1</td>\n",
       "      <td>15634602</td>\n",
       "      <td>Hargrave</td>\n",
       "      <td>619</td>\n",
       "      <td>France</td>\n",
       "      <td>Female</td>\n",
       "      <td>42</td>\n",
       "      <td>2</td>\n",
       "      <td>0.00</td>\n",
       "      <td>1</td>\n",
       "      <td>1</td>\n",
       "      <td>1</td>\n",
       "      <td>101348.88</td>\n",
       "      <td>1</td>\n",
       "    </tr>\n",
       "    <tr>\n",
       "      <th>1</th>\n",
       "      <td>2</td>\n",
       "      <td>15647311</td>\n",
       "      <td>Hill</td>\n",
       "      <td>608</td>\n",
       "      <td>Spain</td>\n",
       "      <td>Female</td>\n",
       "      <td>41</td>\n",
       "      <td>1</td>\n",
       "      <td>83807.86</td>\n",
       "      <td>1</td>\n",
       "      <td>0</td>\n",
       "      <td>1</td>\n",
       "      <td>112542.58</td>\n",
       "      <td>0</td>\n",
       "    </tr>\n",
       "    <tr>\n",
       "      <th>2</th>\n",
       "      <td>3</td>\n",
       "      <td>15619304</td>\n",
       "      <td>Onio</td>\n",
       "      <td>502</td>\n",
       "      <td>France</td>\n",
       "      <td>Female</td>\n",
       "      <td>42</td>\n",
       "      <td>8</td>\n",
       "      <td>159660.80</td>\n",
       "      <td>3</td>\n",
       "      <td>1</td>\n",
       "      <td>0</td>\n",
       "      <td>113931.57</td>\n",
       "      <td>1</td>\n",
       "    </tr>\n",
       "    <tr>\n",
       "      <th>3</th>\n",
       "      <td>4</td>\n",
       "      <td>15701354</td>\n",
       "      <td>Boni</td>\n",
       "      <td>699</td>\n",
       "      <td>France</td>\n",
       "      <td>Female</td>\n",
       "      <td>39</td>\n",
       "      <td>1</td>\n",
       "      <td>0.00</td>\n",
       "      <td>2</td>\n",
       "      <td>0</td>\n",
       "      <td>0</td>\n",
       "      <td>93826.63</td>\n",
       "      <td>0</td>\n",
       "    </tr>\n",
       "    <tr>\n",
       "      <th>4</th>\n",
       "      <td>5</td>\n",
       "      <td>15737888</td>\n",
       "      <td>Mitchell</td>\n",
       "      <td>850</td>\n",
       "      <td>Spain</td>\n",
       "      <td>Female</td>\n",
       "      <td>43</td>\n",
       "      <td>2</td>\n",
       "      <td>125510.82</td>\n",
       "      <td>1</td>\n",
       "      <td>1</td>\n",
       "      <td>1</td>\n",
       "      <td>79084.10</td>\n",
       "      <td>0</td>\n",
       "    </tr>\n",
       "    <tr>\n",
       "      <th>...</th>\n",
       "      <td>...</td>\n",
       "      <td>...</td>\n",
       "      <td>...</td>\n",
       "      <td>...</td>\n",
       "      <td>...</td>\n",
       "      <td>...</td>\n",
       "      <td>...</td>\n",
       "      <td>...</td>\n",
       "      <td>...</td>\n",
       "      <td>...</td>\n",
       "      <td>...</td>\n",
       "      <td>...</td>\n",
       "      <td>...</td>\n",
       "      <td>...</td>\n",
       "    </tr>\n",
       "    <tr>\n",
       "      <th>9995</th>\n",
       "      <td>9996</td>\n",
       "      <td>15606229</td>\n",
       "      <td>Obijiaku</td>\n",
       "      <td>771</td>\n",
       "      <td>France</td>\n",
       "      <td>Male</td>\n",
       "      <td>39</td>\n",
       "      <td>5</td>\n",
       "      <td>0.00</td>\n",
       "      <td>2</td>\n",
       "      <td>1</td>\n",
       "      <td>0</td>\n",
       "      <td>96270.64</td>\n",
       "      <td>0</td>\n",
       "    </tr>\n",
       "    <tr>\n",
       "      <th>9996</th>\n",
       "      <td>9997</td>\n",
       "      <td>15569892</td>\n",
       "      <td>Johnstone</td>\n",
       "      <td>516</td>\n",
       "      <td>France</td>\n",
       "      <td>Male</td>\n",
       "      <td>35</td>\n",
       "      <td>10</td>\n",
       "      <td>57369.61</td>\n",
       "      <td>1</td>\n",
       "      <td>1</td>\n",
       "      <td>1</td>\n",
       "      <td>101699.77</td>\n",
       "      <td>0</td>\n",
       "    </tr>\n",
       "    <tr>\n",
       "      <th>9997</th>\n",
       "      <td>9998</td>\n",
       "      <td>15584532</td>\n",
       "      <td>Liu</td>\n",
       "      <td>709</td>\n",
       "      <td>France</td>\n",
       "      <td>Female</td>\n",
       "      <td>36</td>\n",
       "      <td>7</td>\n",
       "      <td>0.00</td>\n",
       "      <td>1</td>\n",
       "      <td>0</td>\n",
       "      <td>1</td>\n",
       "      <td>42085.58</td>\n",
       "      <td>1</td>\n",
       "    </tr>\n",
       "    <tr>\n",
       "      <th>9998</th>\n",
       "      <td>9999</td>\n",
       "      <td>15682355</td>\n",
       "      <td>Sabbatini</td>\n",
       "      <td>772</td>\n",
       "      <td>Germany</td>\n",
       "      <td>Male</td>\n",
       "      <td>42</td>\n",
       "      <td>3</td>\n",
       "      <td>75075.31</td>\n",
       "      <td>2</td>\n",
       "      <td>1</td>\n",
       "      <td>0</td>\n",
       "      <td>92888.52</td>\n",
       "      <td>1</td>\n",
       "    </tr>\n",
       "    <tr>\n",
       "      <th>9999</th>\n",
       "      <td>10000</td>\n",
       "      <td>15628319</td>\n",
       "      <td>Walker</td>\n",
       "      <td>792</td>\n",
       "      <td>France</td>\n",
       "      <td>Female</td>\n",
       "      <td>28</td>\n",
       "      <td>4</td>\n",
       "      <td>130142.79</td>\n",
       "      <td>1</td>\n",
       "      <td>1</td>\n",
       "      <td>0</td>\n",
       "      <td>38190.78</td>\n",
       "      <td>0</td>\n",
       "    </tr>\n",
       "  </tbody>\n",
       "</table>\n",
       "<p>10000 rows × 14 columns</p>\n",
       "</div>"
      ],
      "text/plain": [
       "      RowNumber  CustomerId    Surname  CreditScore Geography  Gender  Age  \\\n",
       "0             1    15634602   Hargrave          619    France  Female   42   \n",
       "1             2    15647311       Hill          608     Spain  Female   41   \n",
       "2             3    15619304       Onio          502    France  Female   42   \n",
       "3             4    15701354       Boni          699    France  Female   39   \n",
       "4             5    15737888   Mitchell          850     Spain  Female   43   \n",
       "...         ...         ...        ...          ...       ...     ...  ...   \n",
       "9995       9996    15606229   Obijiaku          771    France    Male   39   \n",
       "9996       9997    15569892  Johnstone          516    France    Male   35   \n",
       "9997       9998    15584532        Liu          709    France  Female   36   \n",
       "9998       9999    15682355  Sabbatini          772   Germany    Male   42   \n",
       "9999      10000    15628319     Walker          792    France  Female   28   \n",
       "\n",
       "      Tenure    Balance  NumOfProducts  HasCrCard  IsActiveMember  \\\n",
       "0          2       0.00              1          1               1   \n",
       "1          1   83807.86              1          0               1   \n",
       "2          8  159660.80              3          1               0   \n",
       "3          1       0.00              2          0               0   \n",
       "4          2  125510.82              1          1               1   \n",
       "...      ...        ...            ...        ...             ...   \n",
       "9995       5       0.00              2          1               0   \n",
       "9996      10   57369.61              1          1               1   \n",
       "9997       7       0.00              1          0               1   \n",
       "9998       3   75075.31              2          1               0   \n",
       "9999       4  130142.79              1          1               0   \n",
       "\n",
       "      EstimatedSalary  Exited  \n",
       "0           101348.88       1  \n",
       "1           112542.58       0  \n",
       "2           113931.57       1  \n",
       "3            93826.63       0  \n",
       "4            79084.10       0  \n",
       "...               ...     ...  \n",
       "9995         96270.64       0  \n",
       "9996        101699.77       0  \n",
       "9997         42085.58       1  \n",
       "9998         92888.52       1  \n",
       "9999         38190.78       0  \n",
       "\n",
       "[10000 rows x 14 columns]"
      ]
     },
     "execution_count": 186,
     "metadata": {},
     "output_type": "execute_result"
    }
   ],
   "source": [
    "df = pd.read_csv(\"churn_data.csv\")\n",
    "df"
   ]
  },
  {
   "cell_type": "code",
   "execution_count": 187,
   "metadata": {},
   "outputs": [
    {
     "data": {
      "text/plain": [
       "Exited\n",
       "0    7963\n",
       "1    2037\n",
       "Name: count, dtype: int64"
      ]
     },
     "execution_count": 187,
     "metadata": {},
     "output_type": "execute_result"
    }
   ],
   "source": [
    "df[\"Exited\"].value_counts()"
   ]
  },
  {
   "cell_type": "code",
   "execution_count": 188,
   "metadata": {},
   "outputs": [
    {
     "name": "stdout",
     "output_type": "stream",
     "text": [
      "(5625, 13) (1875, 13) (2500, 13) (5625,) (1875,) (2500,)\n"
     ]
    }
   ],
   "source": [
    "from sklearn.model_selection import train_test_split\n",
    "\n",
    "x_train, x_test, y_train, y_test = train_test_split(df.drop([\"Exited\"],axis=1),df[\"Exited\"],random_state=2,stratify=df[\"Exited\"])\n",
    "x_train, x_valid, y_train, y_valid = train_test_split(x_train,y_train,random_state=2,stratify=y_train)\n",
    "\n",
    "print (x_train.shape, x_valid.shape, x_test.shape, y_train.shape, y_valid.shape, y_test.shape)\n"
   ]
  },
  {
   "cell_type": "code",
   "execution_count": 189,
   "metadata": {},
   "outputs": [],
   "source": [
    "from sklearn.pipeline import Pipeline, make_pipeline\n",
    "from sklearn.base import BaseEstimator, TransformerMixin\n",
    "\n",
    "\n",
    "class ColumnSelector(BaseEstimator, TransformerMixin):\n",
    "    def __init__(self, key):\n",
    "        self.key = key\n",
    "\n",
    "    def fit(self, X, y=None):\n",
    "        return self\n",
    "\n",
    "    def transform(self, X):\n",
    "        # The key can refer to list. In this case mulitiple columns were selected\n",
    "        return X[self.key]\n",
    "\n",
    "\n",
    "class NumberSelector(BaseEstimator, TransformerMixin):\n",
    "    def __init__(self, key):\n",
    "        self.key = key\n",
    "\n",
    "    def fit(self, X, y=None):\n",
    "        return self\n",
    "\n",
    "    def transform(self, X):\n",
    "        # The key can refer to name only. In this case only one is selected\n",
    "        return X[[self.key]]\n",
    "\n",
    "\n",
    "class OHEEncoder(BaseEstimator, TransformerMixin):\n",
    "    def __init__(self, key):\n",
    "        self.key = key\n",
    "        self.columns = []\n",
    "\n",
    "    def fit(self, X, y=None):\n",
    "        # Preliminary dummy columns creator\n",
    "        self.columns = [col for col in pd.get_dummies(X, prefix=self.key).columns]\n",
    "        return self\n",
    "\n",
    "    def transform(self, X):\n",
    "        # Getting all columns:-------------------------------\n",
    "        X = pd.get_dummies(X, prefix=self.key,dtype=int)\n",
    "        print (X);\n",
    "        test_columns = [col for col in X.columns]\n",
    "        for col_ in test_columns:\n",
    "            # Checking preliminary fitted columns:-----------\n",
    "            if col_ not in self.columns:\n",
    "                X[col_] = 0\n",
    "        return X[self.columns]\n",
    "\n",
    "\n",
    "class OHEEncoderBin(BaseEstimator, TransformerMixin):\n",
    "    def __init__(self, key):\n",
    "        self.key = key\n",
    "        self.columns = []\n",
    "\n",
    "    def fit(self, X, y=None):\n",
    "        binary = [col for col in pd.get_dummies(X, prefix=self.key).columns]\n",
    "        # One hot encoding\n",
    "        # It's used for GENDER-like variables which can be replaced by the 0,1\n",
    "        self.columns=binary[:1]\n",
    "        return self\n",
    "\n",
    "    def transform(self, X):\n",
    "        X = pd.get_dummies(X, prefix=self.key,dtype=int)\n",
    "        return X[self.columns]\n",
    "\n",
    "class NumericPower(BaseEstimator, TransformerMixin):\n",
    "    def __init__(self, key,p=2):\n",
    "        self.key = key\n",
    "        self.columns = []\n",
    "        self.p = p+1\n",
    "\n",
    "    def fit(self, X, y=None):\n",
    "        power_columns = [self.key + str(i) for i in range(1,self.p)]\n",
    "        self.columns = power_columns+['log']\n",
    "        return self\n",
    "\n",
    "    def transform(self, X):\n",
    "        x_pow = X.values.reshape(-1,1)\n",
    "        \n",
    "        for i in range(2, self.p):\n",
    "            new_x = (X.values.reshape(-1,1) **i).astype(float)\n",
    "            x_pow = np.hstack([x_pow,new_x])\n",
    "        \n",
    "        new_x = np.log(X.values.reshape(-1,1) + 1).astype(float)\n",
    "        x_pow = np.hstack([x_pow,new_x])\n",
    "\n",
    "        df = pd.DataFrame(data=x_pow,index=X.index,columns=[self.columns])\n",
    "        return df[self.columns]\n"
   ]
  },
  {
   "cell_type": "code",
   "execution_count": 190,
   "metadata": {},
   "outputs": [
    {
     "name": "stdout",
     "output_type": "stream",
     "text": [
      "<class 'pandas.core.frame.DataFrame'>\n",
      "Index: 5625 entries, 3246 to 1140\n",
      "Data columns (total 13 columns):\n",
      " #   Column           Non-Null Count  Dtype  \n",
      "---  ------           --------------  -----  \n",
      " 0   RowNumber        5625 non-null   int64  \n",
      " 1   CustomerId       5625 non-null   int64  \n",
      " 2   Surname          5625 non-null   object \n",
      " 3   CreditScore      5625 non-null   int64  \n",
      " 4   Geography        5625 non-null   object \n",
      " 5   Gender           5625 non-null   object \n",
      " 6   Age              5625 non-null   int64  \n",
      " 7   Tenure           5625 non-null   int64  \n",
      " 8   Balance          5625 non-null   float64\n",
      " 9   NumOfProducts    5625 non-null   int64  \n",
      " 10  HasCrCard        5625 non-null   int64  \n",
      " 11  IsActiveMember   5625 non-null   int64  \n",
      " 12  EstimatedSalary  5625 non-null   float64\n",
      "dtypes: float64(2), int64(8), object(3)\n",
      "memory usage: 615.2+ KB\n"
     ]
    }
   ],
   "source": [
    "x_train.info()"
   ]
  },
  {
   "cell_type": "code",
   "execution_count": 191,
   "metadata": {},
   "outputs": [
    {
     "name": "stdout",
     "output_type": "stream",
     "text": [
      "Geography unique =  ['France' 'Spain' 'Germany']\n",
      "Gender unique =  ['Male' 'Female']\n",
      "HasCrCard unique =  [1 0]\n",
      "IsActiveMember unique =  [0 1]\n"
     ]
    }
   ],
   "source": [
    "categorical_col = ['Geography','Gender','HasCrCard','IsActiveMember']\n",
    "for i in categorical_col:\n",
    "    unique = pd.unique(x_train[i])\n",
    "    print (i, \"unique = \",unique)"
   ]
  },
  {
   "cell_type": "code",
   "execution_count": null,
   "metadata": {},
   "outputs": [],
   "source": []
  },
  {
   "cell_type": "code",
   "execution_count": 192,
   "metadata": {},
   "outputs": [
    {
     "name": "stdout",
     "output_type": "stream",
     "text": [
      "CreditScore 0.09899699975076895 0.29579937722705407\n",
      "Age 0.04302567380410705 0.7122136076984413\n",
      "Tenure 0.024697935545603945 0.9700751019639099\n",
      "Balance 0.889920394495323 0.40041230485560075\n",
      "NumOfProducts 0.9392183661670691 0.26203207834054343\n",
      "HasCrCard 0.3143940421278061 0.2752735021647351\n",
      "IsActiveMember 0.35688627444759446 0.9868638884464042\n",
      "EstimatedSalary 0.5859254959238962 0.7268164310663222\n"
     ]
    }
   ],
   "source": [
    "numerics = ['int16','int32','int64','float16','float32','float64']\n",
    "\n",
    "# Removing rowNumber and customerId\n",
    "xtr = x_train.iloc[:,2:]\n",
    "\n",
    "# Checking statistical validity:\n",
    "\n",
    "for i in xtr.select_dtypes(include=numerics).columns:\n",
    "    valid = mannwhitneyu(x_train.loc[y_train==1,i], x_valid.loc[y_valid==1,i])\n",
    "    test = mannwhitneyu(x_train.loc[y_train==1,i], x_test.loc[y_test==1,i])\n",
    "    print (i,valid[1],test[1])"
   ]
  },
  {
   "cell_type": "code",
   "execution_count": 193,
   "metadata": {},
   "outputs": [
    {
     "data": {
      "text/html": [
       "<div>\n",
       "<style scoped>\n",
       "    .dataframe tbody tr th:only-of-type {\n",
       "        vertical-align: middle;\n",
       "    }\n",
       "\n",
       "    .dataframe tbody tr th {\n",
       "        vertical-align: top;\n",
       "    }\n",
       "\n",
       "    .dataframe thead th {\n",
       "        text-align: right;\n",
       "    }\n",
       "</style>\n",
       "<table border=\"1\" class=\"dataframe\">\n",
       "  <thead>\n",
       "    <tr style=\"text-align: right;\">\n",
       "      <th></th>\n",
       "      <th>Gender_Female</th>\n",
       "    </tr>\n",
       "  </thead>\n",
       "  <tbody>\n",
       "    <tr>\n",
       "      <th>2308</th>\n",
       "      <td>1</td>\n",
       "    </tr>\n",
       "    <tr>\n",
       "      <th>5033</th>\n",
       "      <td>1</td>\n",
       "    </tr>\n",
       "    <tr>\n",
       "      <th>3350</th>\n",
       "      <td>0</td>\n",
       "    </tr>\n",
       "  </tbody>\n",
       "</table>\n",
       "</div>"
      ],
      "text/plain": [
       "      Gender_Female\n",
       "2308              1\n",
       "5033              1\n",
       "3350              0"
      ]
     },
     "execution_count": 193,
     "metadata": {},
     "output_type": "execute_result"
    }
   ],
   "source": [
    "gender = Pipeline([\n",
    "  ('selector', ColumnSelector(key='Gender')),\n",
    "  ('ohe', OHEEncoderBin(key='Gender'))\n",
    "])\n",
    "gender.fit(x_train)\n",
    "gender.transform(x_test).head(3)"
   ]
  },
  {
   "cell_type": "code",
   "execution_count": 194,
   "metadata": {},
   "outputs": [
    {
     "name": "stdout",
     "output_type": "stream",
     "text": [
      "      Geography_France  Geography_Germany  Geography_Spain\n",
      "2308                 0                  1                0\n",
      "5033                 1                  0                0\n",
      "3350                 0                  0                1\n",
      "2257                 0                  0                1\n",
      "6979                 1                  0                0\n",
      "...                ...                ...              ...\n",
      "1286                 0                  0                1\n",
      "3482                 0                  0                1\n",
      "9433                 1                  0                0\n",
      "6812                 0                  1                0\n",
      "5490                 0                  0                1\n",
      "\n",
      "[2500 rows x 3 columns]\n"
     ]
    },
    {
     "data": {
      "text/html": [
       "<div>\n",
       "<style scoped>\n",
       "    .dataframe tbody tr th:only-of-type {\n",
       "        vertical-align: middle;\n",
       "    }\n",
       "\n",
       "    .dataframe tbody tr th {\n",
       "        vertical-align: top;\n",
       "    }\n",
       "\n",
       "    .dataframe thead th {\n",
       "        text-align: right;\n",
       "    }\n",
       "</style>\n",
       "<table border=\"1\" class=\"dataframe\">\n",
       "  <thead>\n",
       "    <tr style=\"text-align: right;\">\n",
       "      <th></th>\n",
       "      <th>Geography_France</th>\n",
       "      <th>Geography_Germany</th>\n",
       "      <th>Geography_Spain</th>\n",
       "    </tr>\n",
       "  </thead>\n",
       "  <tbody>\n",
       "    <tr>\n",
       "      <th>2308</th>\n",
       "      <td>0</td>\n",
       "      <td>1</td>\n",
       "      <td>0</td>\n",
       "    </tr>\n",
       "    <tr>\n",
       "      <th>5033</th>\n",
       "      <td>1</td>\n",
       "      <td>0</td>\n",
       "      <td>0</td>\n",
       "    </tr>\n",
       "    <tr>\n",
       "      <th>3350</th>\n",
       "      <td>0</td>\n",
       "      <td>0</td>\n",
       "      <td>1</td>\n",
       "    </tr>\n",
       "  </tbody>\n",
       "</table>\n",
       "</div>"
      ],
      "text/plain": [
       "      Geography_France  Geography_Germany  Geography_Spain\n",
       "2308                 0                  1                0\n",
       "5033                 1                  0                0\n",
       "3350                 0                  0                1"
      ]
     },
     "execution_count": 194,
     "metadata": {},
     "output_type": "execute_result"
    }
   ],
   "source": [
    "gender = Pipeline([\n",
    "  ('selector', ColumnSelector(key='Geography')),\n",
    "  ('ohe', OHEEncoder(key='Geography'))\n",
    "])\n",
    "gender.fit(x_train)\n",
    "gender.transform(x_test).head(3)"
   ]
  },
  {
   "cell_type": "code",
   "execution_count": 195,
   "metadata": {},
   "outputs": [
    {
     "data": {
      "text/html": [
       "<div>\n",
       "<style scoped>\n",
       "    .dataframe tbody tr th:only-of-type {\n",
       "        vertical-align: middle;\n",
       "    }\n",
       "\n",
       "    .dataframe tbody tr th {\n",
       "        vertical-align: top;\n",
       "    }\n",
       "\n",
       "    .dataframe thead tr th {\n",
       "        text-align: left;\n",
       "    }\n",
       "</style>\n",
       "<table border=\"1\" class=\"dataframe\">\n",
       "  <thead>\n",
       "    <tr>\n",
       "      <th></th>\n",
       "      <th>Age1</th>\n",
       "      <th>Age2</th>\n",
       "      <th>Age3</th>\n",
       "      <th>log</th>\n",
       "    </tr>\n",
       "  </thead>\n",
       "  <tbody>\n",
       "    <tr>\n",
       "      <th>2308</th>\n",
       "      <td>33.0</td>\n",
       "      <td>1089.0</td>\n",
       "      <td>35937.0</td>\n",
       "      <td>3.526361</td>\n",
       "    </tr>\n",
       "    <tr>\n",
       "      <th>5033</th>\n",
       "      <td>61.0</td>\n",
       "      <td>3721.0</td>\n",
       "      <td>226981.0</td>\n",
       "      <td>4.127134</td>\n",
       "    </tr>\n",
       "    <tr>\n",
       "      <th>3350</th>\n",
       "      <td>35.0</td>\n",
       "      <td>1225.0</td>\n",
       "      <td>42875.0</td>\n",
       "      <td>3.583519</td>\n",
       "    </tr>\n",
       "  </tbody>\n",
       "</table>\n",
       "</div>"
      ],
      "text/plain": [
       "      Age1    Age2      Age3       log\n",
       "2308  33.0  1089.0   35937.0  3.526361\n",
       "5033  61.0  3721.0  226981.0  4.127134\n",
       "3350  35.0  1225.0   42875.0  3.583519"
      ]
     },
     "execution_count": 195,
     "metadata": {},
     "output_type": "execute_result"
    }
   ],
   "source": [
    "age = Pipeline([\n",
    "  ('selector', ColumnSelector(key='Age')),\n",
    "  ('ohe', NumericPower(key='Age',p=3))\n",
    "])\n",
    "age.fit(x_train)\n",
    "age.transform(x_test).head(3)"
   ]
  },
  {
   "cell_type": "code",
   "execution_count": 196,
   "metadata": {},
   "outputs": [
    {
     "data": {
      "text/plain": [
       "[('Geography',\n",
       "  Pipeline(steps=[('selector', ColumnSelector(key='Geography')),\n",
       "                  ('ohe', OHEEncoder(key='Geography'))])),\n",
       " ('CreditScore',\n",
       "  Pipeline(steps=[('selector', NumberSelector(key='CreditScore')),\n",
       "                  ('pow_2', NumericPower(key='CreditScore', p=4)),\n",
       "                  ('Scale', StandardScaler())])),\n",
       " ('Tenure',\n",
       "  Pipeline(steps=[('selector', NumberSelector(key='Tenure')),\n",
       "                  ('pow_2', NumericPower(key='Tenure', p=4)),\n",
       "                  ('Scale', StandardScaler())])),\n",
       " ('Age',\n",
       "  Pipeline(steps=[('selector', NumberSelector(key='Age')),\n",
       "                  ('pow_2', NumericPower(key='Age', p=4)),\n",
       "                  ('Scale', StandardScaler())])),\n",
       " ('Balance',\n",
       "  Pipeline(steps=[('selector', NumberSelector(key='Balance')),\n",
       "                  ('pow_2', NumericPower(key='Balance', p=4)),\n",
       "                  ('Scale', StandardScaler())])),\n",
       " ('NumOfProducts',\n",
       "  Pipeline(steps=[('selector', NumberSelector(key='NumOfProducts')),\n",
       "                  ('pow_2', NumericPower(key='NumOfProducts', p=4)),\n",
       "                  ('Scale', StandardScaler())])),\n",
       " ('EstimatedSalary',\n",
       "  Pipeline(steps=[('selector', NumberSelector(key='EstimatedSalary')),\n",
       "                  ('pow_2', NumericPower(key='EstimatedSalary', p=4)),\n",
       "                  ('Scale', StandardScaler())])),\n",
       " ('Gender',\n",
       "  Pipeline(steps=[('selector', ColumnSelector(key='Gender')),\n",
       "                  ('ohe', OHEEncoder(key='Gender'))])),\n",
       " ('HasCrCard',\n",
       "  Pipeline(steps=[('selector', ColumnSelector(key='HasCrCard')),\n",
       "                  ('ohe', OHEEncoder(key='HasCrCard'))])),\n",
       " ('IsActiveMember',\n",
       "  Pipeline(steps=[('selector', ColumnSelector(key='IsActiveMember')),\n",
       "                  ('ohe', OHEEncoder(key='IsActiveMember'))]))]"
      ]
     },
     "execution_count": 196,
     "metadata": {},
     "output_type": "execute_result"
    }
   ],
   "source": [
    "from sklearn.preprocessing import StandardScaler\n",
    "\n",
    "categorical_columns = ['Geography']\n",
    "continuous_columns = ['CreditScore','Tenure','Age','Balance','NumOfProducts','EstimatedSalary']\n",
    "categorical_bin_columns = ['Gender','HasCrCard','IsActiveMember']\n",
    "\n",
    "final_transformers = list();\n",
    "\n",
    "for cat_col in categorical_columns:\n",
    "    pipe = Pipeline([(\"selector\",ColumnSelector(key=cat_col)),(\"ohe\", OHEEncoder(key=cat_col))])\n",
    "    final_transformers.append((cat_col,pipe))\n",
    "\n",
    "for cont_col in continuous_columns:\n",
    "    pipe = Pipeline([\n",
    "        ('selector', NumberSelector(key=cont_col)),\n",
    "        ('pow_2', NumericPower(key=cont_col,p=3)),\n",
    "        ('Scale', StandardScaler())\n",
    "    ])\n",
    "    final_transformers.append((cont_col,pipe))\n",
    "    \n",
    "for bin_col in categorical_bin_columns:\n",
    "    pipe = Pipeline([(\"selector\",ColumnSelector(key=bin_col)),\n",
    "                       (\"ohe\", OHEEncoder(key=bin_col))])\n",
    "    final_transformers.append((bin_col,pipe))\n",
    "\n",
    "final_transformers\n"
   ]
  },
  {
   "cell_type": "code",
   "execution_count": 197,
   "metadata": {},
   "outputs": [
    {
     "name": "stdout",
     "output_type": "stream",
     "text": [
      "      Geography_France  Geography_Germany  Geography_Spain\n",
      "3246                 1                  0                0\n",
      "9962                 0                  0                1\n",
      "4311                 0                  0                1\n",
      "7857                 1                  0                0\n",
      "9880                 0                  1                0\n",
      "...                ...                ...              ...\n",
      "106                  0                  1                0\n",
      "4489                 1                  0                0\n",
      "1589                 0                  1                0\n",
      "5625                 1                  0                0\n",
      "1140                 1                  0                0\n",
      "\n",
      "[5625 rows x 3 columns]\n",
      "      Gender_Female  Gender_Male\n",
      "3246              0            1\n",
      "9962              0            1\n",
      "4311              1            0\n",
      "7857              0            1\n",
      "9880              0            1\n",
      "...             ...          ...\n",
      "106               0            1\n",
      "4489              1            0\n",
      "1589              0            1\n",
      "5625              1            0\n",
      "1140              1            0\n",
      "\n",
      "[5625 rows x 2 columns]\n",
      "      HasCrCard_0  HasCrCard_1\n",
      "3246            0            1\n",
      "9962            1            0\n",
      "4311            0            1\n",
      "7857            1            0\n",
      "9880            0            1\n",
      "...           ...          ...\n",
      "106             0            1\n",
      "4489            0            1\n",
      "1589            0            1\n",
      "5625            0            1\n",
      "1140            0            1\n",
      "\n",
      "[5625 rows x 2 columns]\n",
      "      IsActiveMember_0  IsActiveMember_1\n",
      "3246                 1                 0\n",
      "9962                 1                 0\n",
      "4311                 1                 0\n",
      "7857                 1                 0\n",
      "9880                 1                 0\n",
      "...                ...               ...\n",
      "106                  0                 1\n",
      "4489                 0                 1\n",
      "1589                 0                 1\n",
      "5625                 0                 1\n",
      "1140                 1                 0\n",
      "\n",
      "[5625 rows x 2 columns]\n"
     ]
    },
    {
     "data": {
      "text/html": [
       "<style>#sk-container-id-4 {color: black;}#sk-container-id-4 pre{padding: 0;}#sk-container-id-4 div.sk-toggleable {background-color: white;}#sk-container-id-4 label.sk-toggleable__label {cursor: pointer;display: block;width: 100%;margin-bottom: 0;padding: 0.3em;box-sizing: border-box;text-align: center;}#sk-container-id-4 label.sk-toggleable__label-arrow:before {content: \"▸\";float: left;margin-right: 0.25em;color: #696969;}#sk-container-id-4 label.sk-toggleable__label-arrow:hover:before {color: black;}#sk-container-id-4 div.sk-estimator:hover label.sk-toggleable__label-arrow:before {color: black;}#sk-container-id-4 div.sk-toggleable__content {max-height: 0;max-width: 0;overflow: hidden;text-align: left;background-color: #f0f8ff;}#sk-container-id-4 div.sk-toggleable__content pre {margin: 0.2em;color: black;border-radius: 0.25em;background-color: #f0f8ff;}#sk-container-id-4 input.sk-toggleable__control:checked~div.sk-toggleable__content {max-height: 200px;max-width: 100%;overflow: auto;}#sk-container-id-4 input.sk-toggleable__control:checked~label.sk-toggleable__label-arrow:before {content: \"▾\";}#sk-container-id-4 div.sk-estimator input.sk-toggleable__control:checked~label.sk-toggleable__label {background-color: #d4ebff;}#sk-container-id-4 div.sk-label input.sk-toggleable__control:checked~label.sk-toggleable__label {background-color: #d4ebff;}#sk-container-id-4 input.sk-hidden--visually {border: 0;clip: rect(1px 1px 1px 1px);clip: rect(1px, 1px, 1px, 1px);height: 1px;margin: -1px;overflow: hidden;padding: 0;position: absolute;width: 1px;}#sk-container-id-4 div.sk-estimator {font-family: monospace;background-color: #f0f8ff;border: 1px dotted black;border-radius: 0.25em;box-sizing: border-box;margin-bottom: 0.5em;}#sk-container-id-4 div.sk-estimator:hover {background-color: #d4ebff;}#sk-container-id-4 div.sk-parallel-item::after {content: \"\";width: 100%;border-bottom: 1px solid gray;flex-grow: 1;}#sk-container-id-4 div.sk-label:hover label.sk-toggleable__label {background-color: #d4ebff;}#sk-container-id-4 div.sk-serial::before {content: \"\";position: absolute;border-left: 1px solid gray;box-sizing: border-box;top: 0;bottom: 0;left: 50%;z-index: 0;}#sk-container-id-4 div.sk-serial {display: flex;flex-direction: column;align-items: center;background-color: white;padding-right: 0.2em;padding-left: 0.2em;position: relative;}#sk-container-id-4 div.sk-item {position: relative;z-index: 1;}#sk-container-id-4 div.sk-parallel {display: flex;align-items: stretch;justify-content: center;background-color: white;position: relative;}#sk-container-id-4 div.sk-item::before, #sk-container-id-4 div.sk-parallel-item::before {content: \"\";position: absolute;border-left: 1px solid gray;box-sizing: border-box;top: 0;bottom: 0;left: 50%;z-index: -1;}#sk-container-id-4 div.sk-parallel-item {display: flex;flex-direction: column;z-index: 1;position: relative;background-color: white;}#sk-container-id-4 div.sk-parallel-item:first-child::after {align-self: flex-end;width: 50%;}#sk-container-id-4 div.sk-parallel-item:last-child::after {align-self: flex-start;width: 50%;}#sk-container-id-4 div.sk-parallel-item:only-child::after {width: 0;}#sk-container-id-4 div.sk-dashed-wrapped {border: 1px dashed gray;margin: 0 0.4em 0.5em 0.4em;box-sizing: border-box;padding-bottom: 0.4em;background-color: white;}#sk-container-id-4 div.sk-label label {font-family: monospace;font-weight: bold;display: inline-block;line-height: 1.2em;}#sk-container-id-4 div.sk-label-container {text-align: center;}#sk-container-id-4 div.sk-container {/* jupyter's `normalize.less` sets `[hidden] { display: none; }` but bootstrap.min.css set `[hidden] { display: none !important; }` so we also need the `!important` here to be able to override the default hidden behavior on the sphinx rendered scikit-learn.org. See: https://github.com/scikit-learn/scikit-learn/issues/21755 */display: inline-block !important;position: relative;}#sk-container-id-4 div.sk-text-repr-fallback {display: none;}</style><div id=\"sk-container-id-4\" class=\"sk-top-container\"><div class=\"sk-text-repr-fallback\"><pre>Pipeline(steps=[(&#x27;features&#x27;,\n",
       "                 FeatureUnion(transformer_list=[(&#x27;Geography&#x27;,\n",
       "                                                 Pipeline(steps=[(&#x27;selector&#x27;,\n",
       "                                                                  ColumnSelector(key=&#x27;Geography&#x27;)),\n",
       "                                                                 (&#x27;ohe&#x27;,\n",
       "                                                                  OHEEncoder(key=&#x27;Geography&#x27;))])),\n",
       "                                                (&#x27;CreditScore&#x27;,\n",
       "                                                 Pipeline(steps=[(&#x27;selector&#x27;,\n",
       "                                                                  NumberSelector(key=&#x27;CreditScore&#x27;)),\n",
       "                                                                 (&#x27;pow_2&#x27;,\n",
       "                                                                  NumericPower(key=&#x27;CreditScore&#x27;,\n",
       "                                                                               p=4)),\n",
       "                                                                 (&#x27;Scale&#x27;,\n",
       "                                                                  StandardScaler())])),\n",
       "                                                (&#x27;Tenure&#x27;,\n",
       "                                                 Pipeline(steps...\n",
       "                                                                  ColumnSelector(key=&#x27;Gender&#x27;)),\n",
       "                                                                 (&#x27;ohe&#x27;,\n",
       "                                                                  OHEEncoder(key=&#x27;Gender&#x27;))])),\n",
       "                                                (&#x27;HasCrCard&#x27;,\n",
       "                                                 Pipeline(steps=[(&#x27;selector&#x27;,\n",
       "                                                                  ColumnSelector(key=&#x27;HasCrCard&#x27;)),\n",
       "                                                                 (&#x27;ohe&#x27;,\n",
       "                                                                  OHEEncoder(key=&#x27;HasCrCard&#x27;))])),\n",
       "                                                (&#x27;IsActiveMember&#x27;,\n",
       "                                                 Pipeline(steps=[(&#x27;selector&#x27;,\n",
       "                                                                  ColumnSelector(key=&#x27;IsActiveMember&#x27;)),\n",
       "                                                                 (&#x27;ohe&#x27;,\n",
       "                                                                  OHEEncoder(key=&#x27;IsActiveMember&#x27;))]))])),\n",
       "                (&#x27;classifier&#x27;, RandomForestClassifier(random_state=42))])</pre><b>In a Jupyter environment, please rerun this cell to show the HTML representation or trust the notebook. <br />On GitHub, the HTML representation is unable to render, please try loading this page with nbviewer.org.</b></div><div class=\"sk-container\" hidden><div class=\"sk-item sk-dashed-wrapped\"><div class=\"sk-label-container\"><div class=\"sk-label sk-toggleable\"><input class=\"sk-toggleable__control sk-hidden--visually\" id=\"sk-estimator-id-62\" type=\"checkbox\" ><label for=\"sk-estimator-id-62\" class=\"sk-toggleable__label sk-toggleable__label-arrow\">Pipeline</label><div class=\"sk-toggleable__content\"><pre>Pipeline(steps=[(&#x27;features&#x27;,\n",
       "                 FeatureUnion(transformer_list=[(&#x27;Geography&#x27;,\n",
       "                                                 Pipeline(steps=[(&#x27;selector&#x27;,\n",
       "                                                                  ColumnSelector(key=&#x27;Geography&#x27;)),\n",
       "                                                                 (&#x27;ohe&#x27;,\n",
       "                                                                  OHEEncoder(key=&#x27;Geography&#x27;))])),\n",
       "                                                (&#x27;CreditScore&#x27;,\n",
       "                                                 Pipeline(steps=[(&#x27;selector&#x27;,\n",
       "                                                                  NumberSelector(key=&#x27;CreditScore&#x27;)),\n",
       "                                                                 (&#x27;pow_2&#x27;,\n",
       "                                                                  NumericPower(key=&#x27;CreditScore&#x27;,\n",
       "                                                                               p=4)),\n",
       "                                                                 (&#x27;Scale&#x27;,\n",
       "                                                                  StandardScaler())])),\n",
       "                                                (&#x27;Tenure&#x27;,\n",
       "                                                 Pipeline(steps...\n",
       "                                                                  ColumnSelector(key=&#x27;Gender&#x27;)),\n",
       "                                                                 (&#x27;ohe&#x27;,\n",
       "                                                                  OHEEncoder(key=&#x27;Gender&#x27;))])),\n",
       "                                                (&#x27;HasCrCard&#x27;,\n",
       "                                                 Pipeline(steps=[(&#x27;selector&#x27;,\n",
       "                                                                  ColumnSelector(key=&#x27;HasCrCard&#x27;)),\n",
       "                                                                 (&#x27;ohe&#x27;,\n",
       "                                                                  OHEEncoder(key=&#x27;HasCrCard&#x27;))])),\n",
       "                                                (&#x27;IsActiveMember&#x27;,\n",
       "                                                 Pipeline(steps=[(&#x27;selector&#x27;,\n",
       "                                                                  ColumnSelector(key=&#x27;IsActiveMember&#x27;)),\n",
       "                                                                 (&#x27;ohe&#x27;,\n",
       "                                                                  OHEEncoder(key=&#x27;IsActiveMember&#x27;))]))])),\n",
       "                (&#x27;classifier&#x27;, RandomForestClassifier(random_state=42))])</pre></div></div></div><div class=\"sk-serial\"><div class=\"sk-item sk-dashed-wrapped\"><div class=\"sk-label-container\"><div class=\"sk-label sk-toggleable\"><input class=\"sk-toggleable__control sk-hidden--visually\" id=\"sk-estimator-id-63\" type=\"checkbox\" ><label for=\"sk-estimator-id-63\" class=\"sk-toggleable__label sk-toggleable__label-arrow\">features: FeatureUnion</label><div class=\"sk-toggleable__content\"><pre>FeatureUnion(transformer_list=[(&#x27;Geography&#x27;,\n",
       "                                Pipeline(steps=[(&#x27;selector&#x27;,\n",
       "                                                 ColumnSelector(key=&#x27;Geography&#x27;)),\n",
       "                                                (&#x27;ohe&#x27;,\n",
       "                                                 OHEEncoder(key=&#x27;Geography&#x27;))])),\n",
       "                               (&#x27;CreditScore&#x27;,\n",
       "                                Pipeline(steps=[(&#x27;selector&#x27;,\n",
       "                                                 NumberSelector(key=&#x27;CreditScore&#x27;)),\n",
       "                                                (&#x27;pow_2&#x27;,\n",
       "                                                 NumericPower(key=&#x27;CreditScore&#x27;,\n",
       "                                                              p=4)),\n",
       "                                                (&#x27;Scale&#x27;, StandardScaler())])),\n",
       "                               (&#x27;Tenure&#x27;,\n",
       "                                Pipeline(steps=[(&#x27;selector&#x27;,\n",
       "                                                 NumberSelector...\n",
       "                                                (&#x27;Scale&#x27;, StandardScaler())])),\n",
       "                               (&#x27;Gender&#x27;,\n",
       "                                Pipeline(steps=[(&#x27;selector&#x27;,\n",
       "                                                 ColumnSelector(key=&#x27;Gender&#x27;)),\n",
       "                                                (&#x27;ohe&#x27;,\n",
       "                                                 OHEEncoder(key=&#x27;Gender&#x27;))])),\n",
       "                               (&#x27;HasCrCard&#x27;,\n",
       "                                Pipeline(steps=[(&#x27;selector&#x27;,\n",
       "                                                 ColumnSelector(key=&#x27;HasCrCard&#x27;)),\n",
       "                                                (&#x27;ohe&#x27;,\n",
       "                                                 OHEEncoder(key=&#x27;HasCrCard&#x27;))])),\n",
       "                               (&#x27;IsActiveMember&#x27;,\n",
       "                                Pipeline(steps=[(&#x27;selector&#x27;,\n",
       "                                                 ColumnSelector(key=&#x27;IsActiveMember&#x27;)),\n",
       "                                                (&#x27;ohe&#x27;,\n",
       "                                                 OHEEncoder(key=&#x27;IsActiveMember&#x27;))]))])</pre></div></div></div><div class=\"sk-parallel\"><div class=\"sk-parallel-item\"><div class=\"sk-item\"><div class=\"sk-label-container\"><div class=\"sk-label sk-toggleable\"><label>Geography</label></div></div><div class=\"sk-serial\"><div class=\"sk-item\"><div class=\"sk-serial\"><div class=\"sk-item\"><div class=\"sk-estimator sk-toggleable\"><input class=\"sk-toggleable__control sk-hidden--visually\" id=\"sk-estimator-id-64\" type=\"checkbox\" ><label for=\"sk-estimator-id-64\" class=\"sk-toggleable__label sk-toggleable__label-arrow\">ColumnSelector</label><div class=\"sk-toggleable__content\"><pre>ColumnSelector(key=&#x27;Geography&#x27;)</pre></div></div></div><div class=\"sk-item\"><div class=\"sk-estimator sk-toggleable\"><input class=\"sk-toggleable__control sk-hidden--visually\" id=\"sk-estimator-id-65\" type=\"checkbox\" ><label for=\"sk-estimator-id-65\" class=\"sk-toggleable__label sk-toggleable__label-arrow\">OHEEncoder</label><div class=\"sk-toggleable__content\"><pre>OHEEncoder(key=&#x27;Geography&#x27;)</pre></div></div></div></div></div></div></div></div><div class=\"sk-parallel-item\"><div class=\"sk-item\"><div class=\"sk-label-container\"><div class=\"sk-label sk-toggleable\"><label>CreditScore</label></div></div><div class=\"sk-serial\"><div class=\"sk-item\"><div class=\"sk-serial\"><div class=\"sk-item\"><div class=\"sk-estimator sk-toggleable\"><input class=\"sk-toggleable__control sk-hidden--visually\" id=\"sk-estimator-id-66\" type=\"checkbox\" ><label for=\"sk-estimator-id-66\" class=\"sk-toggleable__label sk-toggleable__label-arrow\">NumberSelector</label><div class=\"sk-toggleable__content\"><pre>NumberSelector(key=&#x27;CreditScore&#x27;)</pre></div></div></div><div class=\"sk-item\"><div class=\"sk-estimator sk-toggleable\"><input class=\"sk-toggleable__control sk-hidden--visually\" id=\"sk-estimator-id-67\" type=\"checkbox\" ><label for=\"sk-estimator-id-67\" class=\"sk-toggleable__label sk-toggleable__label-arrow\">NumericPower</label><div class=\"sk-toggleable__content\"><pre>NumericPower(key=&#x27;CreditScore&#x27;, p=4)</pre></div></div></div><div class=\"sk-item\"><div class=\"sk-estimator sk-toggleable\"><input class=\"sk-toggleable__control sk-hidden--visually\" id=\"sk-estimator-id-68\" type=\"checkbox\" ><label for=\"sk-estimator-id-68\" class=\"sk-toggleable__label sk-toggleable__label-arrow\">StandardScaler</label><div class=\"sk-toggleable__content\"><pre>StandardScaler()</pre></div></div></div></div></div></div></div></div><div class=\"sk-parallel-item\"><div class=\"sk-item\"><div class=\"sk-label-container\"><div class=\"sk-label sk-toggleable\"><label>Tenure</label></div></div><div class=\"sk-serial\"><div class=\"sk-item\"><div class=\"sk-serial\"><div class=\"sk-item\"><div class=\"sk-estimator sk-toggleable\"><input class=\"sk-toggleable__control sk-hidden--visually\" id=\"sk-estimator-id-69\" type=\"checkbox\" ><label for=\"sk-estimator-id-69\" class=\"sk-toggleable__label sk-toggleable__label-arrow\">NumberSelector</label><div class=\"sk-toggleable__content\"><pre>NumberSelector(key=&#x27;Tenure&#x27;)</pre></div></div></div><div class=\"sk-item\"><div class=\"sk-estimator sk-toggleable\"><input class=\"sk-toggleable__control sk-hidden--visually\" id=\"sk-estimator-id-70\" type=\"checkbox\" ><label for=\"sk-estimator-id-70\" class=\"sk-toggleable__label sk-toggleable__label-arrow\">NumericPower</label><div class=\"sk-toggleable__content\"><pre>NumericPower(key=&#x27;Tenure&#x27;, p=4)</pre></div></div></div><div class=\"sk-item\"><div class=\"sk-estimator sk-toggleable\"><input class=\"sk-toggleable__control sk-hidden--visually\" id=\"sk-estimator-id-71\" type=\"checkbox\" ><label for=\"sk-estimator-id-71\" class=\"sk-toggleable__label sk-toggleable__label-arrow\">StandardScaler</label><div class=\"sk-toggleable__content\"><pre>StandardScaler()</pre></div></div></div></div></div></div></div></div><div class=\"sk-parallel-item\"><div class=\"sk-item\"><div class=\"sk-label-container\"><div class=\"sk-label sk-toggleable\"><label>Age</label></div></div><div class=\"sk-serial\"><div class=\"sk-item\"><div class=\"sk-serial\"><div class=\"sk-item\"><div class=\"sk-estimator sk-toggleable\"><input class=\"sk-toggleable__control sk-hidden--visually\" id=\"sk-estimator-id-72\" type=\"checkbox\" ><label for=\"sk-estimator-id-72\" class=\"sk-toggleable__label sk-toggleable__label-arrow\">NumberSelector</label><div class=\"sk-toggleable__content\"><pre>NumberSelector(key=&#x27;Age&#x27;)</pre></div></div></div><div class=\"sk-item\"><div class=\"sk-estimator sk-toggleable\"><input class=\"sk-toggleable__control sk-hidden--visually\" id=\"sk-estimator-id-73\" type=\"checkbox\" ><label for=\"sk-estimator-id-73\" class=\"sk-toggleable__label sk-toggleable__label-arrow\">NumericPower</label><div class=\"sk-toggleable__content\"><pre>NumericPower(key=&#x27;Age&#x27;, p=4)</pre></div></div></div><div class=\"sk-item\"><div class=\"sk-estimator sk-toggleable\"><input class=\"sk-toggleable__control sk-hidden--visually\" id=\"sk-estimator-id-74\" type=\"checkbox\" ><label for=\"sk-estimator-id-74\" class=\"sk-toggleable__label sk-toggleable__label-arrow\">StandardScaler</label><div class=\"sk-toggleable__content\"><pre>StandardScaler()</pre></div></div></div></div></div></div></div></div><div class=\"sk-parallel-item\"><div class=\"sk-item\"><div class=\"sk-label-container\"><div class=\"sk-label sk-toggleable\"><label>Balance</label></div></div><div class=\"sk-serial\"><div class=\"sk-item\"><div class=\"sk-serial\"><div class=\"sk-item\"><div class=\"sk-estimator sk-toggleable\"><input class=\"sk-toggleable__control sk-hidden--visually\" id=\"sk-estimator-id-75\" type=\"checkbox\" ><label for=\"sk-estimator-id-75\" class=\"sk-toggleable__label sk-toggleable__label-arrow\">NumberSelector</label><div class=\"sk-toggleable__content\"><pre>NumberSelector(key=&#x27;Balance&#x27;)</pre></div></div></div><div class=\"sk-item\"><div class=\"sk-estimator sk-toggleable\"><input class=\"sk-toggleable__control sk-hidden--visually\" id=\"sk-estimator-id-76\" type=\"checkbox\" ><label for=\"sk-estimator-id-76\" class=\"sk-toggleable__label sk-toggleable__label-arrow\">NumericPower</label><div class=\"sk-toggleable__content\"><pre>NumericPower(key=&#x27;Balance&#x27;, p=4)</pre></div></div></div><div class=\"sk-item\"><div class=\"sk-estimator sk-toggleable\"><input class=\"sk-toggleable__control sk-hidden--visually\" id=\"sk-estimator-id-77\" type=\"checkbox\" ><label for=\"sk-estimator-id-77\" class=\"sk-toggleable__label sk-toggleable__label-arrow\">StandardScaler</label><div class=\"sk-toggleable__content\"><pre>StandardScaler()</pre></div></div></div></div></div></div></div></div><div class=\"sk-parallel-item\"><div class=\"sk-item\"><div class=\"sk-label-container\"><div class=\"sk-label sk-toggleable\"><label>NumOfProducts</label></div></div><div class=\"sk-serial\"><div class=\"sk-item\"><div class=\"sk-serial\"><div class=\"sk-item\"><div class=\"sk-estimator sk-toggleable\"><input class=\"sk-toggleable__control sk-hidden--visually\" id=\"sk-estimator-id-78\" type=\"checkbox\" ><label for=\"sk-estimator-id-78\" class=\"sk-toggleable__label sk-toggleable__label-arrow\">NumberSelector</label><div class=\"sk-toggleable__content\"><pre>NumberSelector(key=&#x27;NumOfProducts&#x27;)</pre></div></div></div><div class=\"sk-item\"><div class=\"sk-estimator sk-toggleable\"><input class=\"sk-toggleable__control sk-hidden--visually\" id=\"sk-estimator-id-79\" type=\"checkbox\" ><label for=\"sk-estimator-id-79\" class=\"sk-toggleable__label sk-toggleable__label-arrow\">NumericPower</label><div class=\"sk-toggleable__content\"><pre>NumericPower(key=&#x27;NumOfProducts&#x27;, p=4)</pre></div></div></div><div class=\"sk-item\"><div class=\"sk-estimator sk-toggleable\"><input class=\"sk-toggleable__control sk-hidden--visually\" id=\"sk-estimator-id-80\" type=\"checkbox\" ><label for=\"sk-estimator-id-80\" class=\"sk-toggleable__label sk-toggleable__label-arrow\">StandardScaler</label><div class=\"sk-toggleable__content\"><pre>StandardScaler()</pre></div></div></div></div></div></div></div></div><div class=\"sk-parallel-item\"><div class=\"sk-item\"><div class=\"sk-label-container\"><div class=\"sk-label sk-toggleable\"><label>EstimatedSalary</label></div></div><div class=\"sk-serial\"><div class=\"sk-item\"><div class=\"sk-serial\"><div class=\"sk-item\"><div class=\"sk-estimator sk-toggleable\"><input class=\"sk-toggleable__control sk-hidden--visually\" id=\"sk-estimator-id-81\" type=\"checkbox\" ><label for=\"sk-estimator-id-81\" class=\"sk-toggleable__label sk-toggleable__label-arrow\">NumberSelector</label><div class=\"sk-toggleable__content\"><pre>NumberSelector(key=&#x27;EstimatedSalary&#x27;)</pre></div></div></div><div class=\"sk-item\"><div class=\"sk-estimator sk-toggleable\"><input class=\"sk-toggleable__control sk-hidden--visually\" id=\"sk-estimator-id-82\" type=\"checkbox\" ><label for=\"sk-estimator-id-82\" class=\"sk-toggleable__label sk-toggleable__label-arrow\">NumericPower</label><div class=\"sk-toggleable__content\"><pre>NumericPower(key=&#x27;EstimatedSalary&#x27;, p=4)</pre></div></div></div><div class=\"sk-item\"><div class=\"sk-estimator sk-toggleable\"><input class=\"sk-toggleable__control sk-hidden--visually\" id=\"sk-estimator-id-83\" type=\"checkbox\" ><label for=\"sk-estimator-id-83\" class=\"sk-toggleable__label sk-toggleable__label-arrow\">StandardScaler</label><div class=\"sk-toggleable__content\"><pre>StandardScaler()</pre></div></div></div></div></div></div></div></div><div class=\"sk-parallel-item\"><div class=\"sk-item\"><div class=\"sk-label-container\"><div class=\"sk-label sk-toggleable\"><label>Gender</label></div></div><div class=\"sk-serial\"><div class=\"sk-item\"><div class=\"sk-serial\"><div class=\"sk-item\"><div class=\"sk-estimator sk-toggleable\"><input class=\"sk-toggleable__control sk-hidden--visually\" id=\"sk-estimator-id-84\" type=\"checkbox\" ><label for=\"sk-estimator-id-84\" class=\"sk-toggleable__label sk-toggleable__label-arrow\">ColumnSelector</label><div class=\"sk-toggleable__content\"><pre>ColumnSelector(key=&#x27;Gender&#x27;)</pre></div></div></div><div class=\"sk-item\"><div class=\"sk-estimator sk-toggleable\"><input class=\"sk-toggleable__control sk-hidden--visually\" id=\"sk-estimator-id-85\" type=\"checkbox\" ><label for=\"sk-estimator-id-85\" class=\"sk-toggleable__label sk-toggleable__label-arrow\">OHEEncoder</label><div class=\"sk-toggleable__content\"><pre>OHEEncoder(key=&#x27;Gender&#x27;)</pre></div></div></div></div></div></div></div></div><div class=\"sk-parallel-item\"><div class=\"sk-item\"><div class=\"sk-label-container\"><div class=\"sk-label sk-toggleable\"><label>HasCrCard</label></div></div><div class=\"sk-serial\"><div class=\"sk-item\"><div class=\"sk-serial\"><div class=\"sk-item\"><div class=\"sk-estimator sk-toggleable\"><input class=\"sk-toggleable__control sk-hidden--visually\" id=\"sk-estimator-id-86\" type=\"checkbox\" ><label for=\"sk-estimator-id-86\" class=\"sk-toggleable__label sk-toggleable__label-arrow\">ColumnSelector</label><div class=\"sk-toggleable__content\"><pre>ColumnSelector(key=&#x27;HasCrCard&#x27;)</pre></div></div></div><div class=\"sk-item\"><div class=\"sk-estimator sk-toggleable\"><input class=\"sk-toggleable__control sk-hidden--visually\" id=\"sk-estimator-id-87\" type=\"checkbox\" ><label for=\"sk-estimator-id-87\" class=\"sk-toggleable__label sk-toggleable__label-arrow\">OHEEncoder</label><div class=\"sk-toggleable__content\"><pre>OHEEncoder(key=&#x27;HasCrCard&#x27;)</pre></div></div></div></div></div></div></div></div><div class=\"sk-parallel-item\"><div class=\"sk-item\"><div class=\"sk-label-container\"><div class=\"sk-label sk-toggleable\"><label>IsActiveMember</label></div></div><div class=\"sk-serial\"><div class=\"sk-item\"><div class=\"sk-serial\"><div class=\"sk-item\"><div class=\"sk-estimator sk-toggleable\"><input class=\"sk-toggleable__control sk-hidden--visually\" id=\"sk-estimator-id-88\" type=\"checkbox\" ><label for=\"sk-estimator-id-88\" class=\"sk-toggleable__label sk-toggleable__label-arrow\">ColumnSelector</label><div class=\"sk-toggleable__content\"><pre>ColumnSelector(key=&#x27;IsActiveMember&#x27;)</pre></div></div></div><div class=\"sk-item\"><div class=\"sk-estimator sk-toggleable\"><input class=\"sk-toggleable__control sk-hidden--visually\" id=\"sk-estimator-id-89\" type=\"checkbox\" ><label for=\"sk-estimator-id-89\" class=\"sk-toggleable__label sk-toggleable__label-arrow\">OHEEncoder</label><div class=\"sk-toggleable__content\"><pre>OHEEncoder(key=&#x27;IsActiveMember&#x27;)</pre></div></div></div></div></div></div></div></div></div></div><div class=\"sk-item\"><div class=\"sk-estimator sk-toggleable\"><input class=\"sk-toggleable__control sk-hidden--visually\" id=\"sk-estimator-id-90\" type=\"checkbox\" ><label for=\"sk-estimator-id-90\" class=\"sk-toggleable__label sk-toggleable__label-arrow\">RandomForestClassifier</label><div class=\"sk-toggleable__content\"><pre>RandomForestClassifier(random_state=42)</pre></div></div></div></div></div></div></div>"
      ],
      "text/plain": [
       "Pipeline(steps=[('features',\n",
       "                 FeatureUnion(transformer_list=[('Geography',\n",
       "                                                 Pipeline(steps=[('selector',\n",
       "                                                                  ColumnSelector(key='Geography')),\n",
       "                                                                 ('ohe',\n",
       "                                                                  OHEEncoder(key='Geography'))])),\n",
       "                                                ('CreditScore',\n",
       "                                                 Pipeline(steps=[('selector',\n",
       "                                                                  NumberSelector(key='CreditScore')),\n",
       "                                                                 ('pow_2',\n",
       "                                                                  NumericPower(key='CreditScore',\n",
       "                                                                               p=4)),\n",
       "                                                                 ('Scale',\n",
       "                                                                  StandardScaler())])),\n",
       "                                                ('Tenure',\n",
       "                                                 Pipeline(steps...\n",
       "                                                                  ColumnSelector(key='Gender')),\n",
       "                                                                 ('ohe',\n",
       "                                                                  OHEEncoder(key='Gender'))])),\n",
       "                                                ('HasCrCard',\n",
       "                                                 Pipeline(steps=[('selector',\n",
       "                                                                  ColumnSelector(key='HasCrCard')),\n",
       "                                                                 ('ohe',\n",
       "                                                                  OHEEncoder(key='HasCrCard'))])),\n",
       "                                                ('IsActiveMember',\n",
       "                                                 Pipeline(steps=[('selector',\n",
       "                                                                  ColumnSelector(key='IsActiveMember')),\n",
       "                                                                 ('ohe',\n",
       "                                                                  OHEEncoder(key='IsActiveMember'))]))])),\n",
       "                ('classifier', RandomForestClassifier(random_state=42))])"
      ]
     },
     "execution_count": 197,
     "metadata": {},
     "output_type": "execute_result"
    }
   ],
   "source": [
    "from sklearn.pipeline import FeatureUnion\n",
    "from sklearn.ensemble import RandomForestClassifier\n",
    "\n",
    "feats = FeatureUnion(final_transformers);\n",
    "pipeline = Pipeline([\n",
    "    (\"features\",feats),\n",
    "    (\"classifier\", RandomForestClassifier(random_state=42))\n",
    "])\n",
    "\n",
    "pipeline.fit(x_train,y_train)"
   ]
  },
  {
   "cell_type": "code",
   "execution_count": 198,
   "metadata": {},
   "outputs": [
    {
     "name": "stdout",
     "output_type": "stream",
     "text": [
      "      Geography_France  Geography_Germany  Geography_Spain\n",
      "3717                 0                  1                0\n",
      "2552                 0                  0                1\n",
      "9545                 0                  0                1\n",
      "1509                 1                  0                0\n",
      "4770                 0                  0                1\n",
      "...                ...                ...              ...\n",
      "1304                 1                  0                0\n",
      "1514                 0                  0                1\n",
      "1155                 1                  0                0\n",
      "7739                 0                  0                1\n",
      "5419                 0                  0                1\n",
      "\n",
      "[1875 rows x 3 columns]\n",
      "      Gender_Female  Gender_Male\n",
      "3717              0            1\n",
      "2552              1            0\n",
      "9545              0            1\n",
      "1509              0            1\n",
      "4770              0            1\n",
      "...             ...          ...\n",
      "1304              1            0\n",
      "1514              0            1\n",
      "1155              0            1\n",
      "7739              0            1\n",
      "5419              1            0\n",
      "\n",
      "[1875 rows x 2 columns]\n",
      "      HasCrCard_0  HasCrCard_1\n",
      "3717            0            1\n",
      "2552            0            1\n",
      "9545            0            1\n",
      "1509            0            1\n",
      "4770            0            1\n",
      "...           ...          ...\n",
      "1304            0            1\n",
      "1514            0            1\n",
      "1155            0            1\n",
      "7739            1            0\n",
      "5419            0            1\n",
      "\n",
      "[1875 rows x 2 columns]\n",
      "      IsActiveMember_0  IsActiveMember_1\n",
      "3717                 1                 0\n",
      "2552                 1                 0\n",
      "9545                 0                 1\n",
      "1509                 1                 0\n",
      "4770                 1                 0\n",
      "...                ...               ...\n",
      "1304                 1                 0\n",
      "1514                 0                 1\n",
      "1155                 1                 0\n",
      "7739                 0                 1\n",
      "5419                 0                 1\n",
      "\n",
      "[1875 rows x 2 columns]\n",
      "0.36 0.6151866151866152 0.6050632911392405 0.6256544502617801\n"
     ]
    }
   ],
   "source": [
    "from sklearn.metrics import precision_recall_curve\n",
    "\n",
    "preds = pipeline.predict_proba(x_valid)[:,1]\n",
    "\n",
    "precision,recall,thresholds = precision_recall_curve(y_valid,preds)\n",
    "\n",
    "fscore = (2*precision*recall)/(precision+recall)\n",
    "\n",
    "ix = np.argmax(fscore)\n",
    "print (thresholds[ix],fscore[ix],precision[ix],recall[ix])\n"
   ]
  },
  {
   "cell_type": "code",
   "execution_count": 199,
   "metadata": {},
   "outputs": [
    {
     "data": {
      "image/png": "[encoded data removed]",
      "text/plain": [
       "<Figure size 432x288 with 2 Axes>"
      ]
     },
     "metadata": {
      "needs_background": "light"
     },
     "output_type": "display_data"
    }
   ],
   "source": [
    "from sklearn.metrics import confusion_matrix, ConfusionMatrixDisplay\n",
    "from sklearn.metrics import confusion_matrix\n",
    "\n",
    "confusion = confusion_matrix(y_valid, preds>=thresholds[ix])\n",
    "\n",
    "disp = ConfusionMatrixDisplay(confusion_matrix=confusion,display_labels=[\"Nc\",\"C\"])\n",
    "\n",
    "disp.plot();"
   ]
  },
  {
   "cell_type": "code",
   "execution_count": 200,
   "metadata": {},
   "outputs": [
    {
     "data": {
      "text/plain": [
       "0.20373333333333332"
      ]
     },
     "execution_count": 200,
     "metadata": {},
     "output_type": "execute_result"
    }
   ],
   "source": [
    "# The BASE conversion:\n",
    "TN = confusion[0][0]\n",
    "FN = confusion[1][0]\n",
    "TP = confusion[1][1]\n",
    "FP = confusion[0][1]\n",
    "\n",
    "\n",
    "C0 = (TP+FN)/np.sum(confusion)\n",
    "C0"
   ]
  },
  {
   "cell_type": "markdown",
   "metadata": {},
   "source": [
    "Разобьем тест на две части А и B. Для В применим модель. Это будет доп колонка. Далее сравним доп колонку с исходным B."
   ]
  },
  {
   "cell_type": "code",
   "execution_count": 201,
   "metadata": {},
   "outputs": [],
   "source": [
    "x_a,x_b,y_a,y_b = train_test_split(x_test,y_test, test_size=0.5, random_state=2, stratify=y_test)"
   ]
  },
  {
   "cell_type": "code",
   "execution_count": 202,
   "metadata": {},
   "outputs": [
    {
     "name": "stdout",
     "output_type": "stream",
     "text": [
      "      Geography_France  Geography_Germany  Geography_Spain\n",
      "5972                 0                  1                0\n",
      "4957                 1                  0                0\n",
      "7889                 0                  1                0\n",
      "6666                 0                  0                1\n",
      "1516                 1                  0                0\n",
      "...                ...                ...              ...\n",
      "7251                 0                  1                0\n",
      "109                  0                  1                0\n",
      "9882                 1                  0                0\n",
      "6246                 1                  0                0\n",
      "9275                 0                  1                0\n",
      "\n",
      "[1250 rows x 3 columns]\n",
      "      Gender_Female  Gender_Male\n",
      "5972              0            1\n",
      "4957              0            1\n",
      "7889              0            1\n",
      "6666              0            1\n",
      "1516              1            0\n",
      "...             ...          ...\n",
      "7251              0            1\n",
      "109               0            1\n",
      "9882              0            1\n",
      "6246              0            1\n",
      "9275              0            1\n",
      "\n",
      "[1250 rows x 2 columns]\n",
      "      HasCrCard_0  HasCrCard_1\n",
      "5972            1            0\n",
      "4957            0            1\n",
      "7889            0            1\n",
      "6666            1            0\n",
      "1516            1            0\n",
      "...           ...          ...\n",
      "7251            0            1\n",
      "109             0            1\n",
      "9882            0            1\n",
      "6246            1            0\n",
      "9275            0            1\n",
      "\n",
      "[1250 rows x 2 columns]\n",
      "      IsActiveMember_0  IsActiveMember_1\n",
      "5972                 1                 0\n",
      "4957                 1                 0\n",
      "7889                 0                 1\n",
      "6666                 0                 1\n",
      "1516                 1                 0\n",
      "...                ...               ...\n",
      "7251                 1                 0\n",
      "109                  1                 0\n",
      "9882                 0                 1\n",
      "6246                 0                 1\n",
      "9275                 0                 1\n",
      "\n",
      "[1250 rows x 2 columns]\n"
     ]
    },
    {
     "data": {
      "text/plain": [
       "array([[894, 102],\n",
       "       [111, 143]], dtype=int64)"
      ]
     },
     "execution_count": 202,
     "metadata": {},
     "output_type": "execute_result"
    }
   ],
   "source": [
    "pred_b = pipeline.predict_proba(x_b)[:,1]\n",
    "confusion = confusion_matrix(y_b, pred_b>=thresholds[ix])\n",
    "TN = confusion[0][0]\n",
    "FN = confusion[1][0]\n",
    "TP = confusion[1][1]\n",
    "FP = confusion[0][1]\n",
    "confusion\n"
   ]
  },
  {
   "cell_type": "code",
   "execution_count": 203,
   "metadata": {},
   "outputs": [
    {
     "name": "stdout",
     "output_type": "stream",
     "text": [
      "  --> A group conversion (EXITED NUMBER): 0.204\n",
      "  --> B group conversion (PREDICTED EXITED NUMBER): 0.146\n"
     ]
    }
   ],
   "source": [
    "# Conversion for A group without ML:-------------------------------------\n",
    "result_a = (np.sum(y_a))/y_a.shape[0]\n",
    "print(\"  --> A group conversion (EXITED NUMBER): {}\".format(result_a))\n",
    "\n",
    "# Conversion for the group B:--------------------------------------------\n",
    "user_reaction_coefficient = 0.5\n",
    "result_b = (FN + (1-user_reaction_coefficient) * TP) / np.sum(confusion)\n",
    "print (\"  --> B group conversion (PREDICTED EXITED NUMBER): {}\".format(result_b))\n",
    "\n"
   ]
  },
  {
   "cell_type": "code",
   "execution_count": null,
   "metadata": {},
   "outputs": [],
   "source": []
  },
  {
   "cell_type": "code",
   "execution_count": null,
   "metadata": {},
   "outputs": [],
   "source": []
  },
  {
   "cell_type": "code",
   "execution_count": null,
   "metadata": {},
   "outputs": [],
   "source": []
  },
  {
   "cell_type": "code",
   "execution_count": null,
   "metadata": {},
   "outputs": [],
   "source": []
  },
  {
   "cell_type": "code",
   "execution_count": null,
   "metadata": {},
   "outputs": [],
   "source": []
  },
  {
   "cell_type": "code",
   "execution_count": null,
   "metadata": {},
   "outputs": [],
   "source": []
  },
  {
   "cell_type": "code",
   "execution_count": null,
   "metadata": {},
   "outputs": [],
   "source": []
  },
  {
   "cell_type": "markdown",
   "metadata": {},
   "source": [
    "#### Параметры (Пример):\n",
    "\n",
    "1. базовая конверсия p=0.14\n",
    "2. мы ожидаем увеличение конверсии хотя бы на 10% (относительно), иначе изменение для нас неоправдывается по тем или иным причинам"
   ]
  },
  {
   "cell_type": "code",
   "execution_count": 18,
   "metadata": {},
   "outputs": [],
   "source": [
    "from scipy.stats import norm, zscore\n",
    "\n",
    "def sample_power_probtest(p1, p2, power=0.8, sig=0.05):\n",
    "    z = norm.isf([sig/2]) #two-sided t test\n",
    "    zp = -1 * norm.isf([power]) \n",
    "    d = (p1-p2)\n",
    "    s =2*((p1+p2) /2)*(1-((p1+p2) /2))\n",
    "    n = s * ((zp + z)**2) / (d**2)\n",
    "    return int(round(n[0]))\n",
    "\n",
    "def sample_power_difftest(d, s, power=0.8, sig=0.05):\n",
    "    z = norm.isf([sig/2])\n",
    "    zp = -1 * norm.isf([power])\n",
    "    n = s * ((zp + z)**2) / (d**2)\n",
    "    return int(round(n[0]))"
   ]
  },
  {
   "cell_type": "markdown",
   "metadata": {},
   "source": [
    "** link - https://stackoverflow.com/questions/15204070/is-there-a-python-scipy-function-to-determine-parameters-needed-to-obtain-a-ta"
   ]
  },
  {
   "cell_type": "code",
   "execution_count": 19,
   "metadata": {},
   "outputs": [
    {
     "name": "stdout",
     "output_type": "stream",
     "text": [
      "With power=0.8, alpha=0.05, base_ctr=0.14 and minimal effect=0.1 we expect to have 10043 per variation\n"
     ]
    }
   ],
   "source": [
    "p = 0.14\n",
    "min_effect = 0.1\n",
    "alpha = 0.05\n",
    "power = 0.8 #The power of a binary hypothesis test is the probability that the test rejects the null hypothesis when a specific alternative hypothesis is true\n",
    "\n",
    "\n",
    "n = sample_power_probtest(p, p*(1+min_effect), power=power, sig=alpha)\n",
    "print(\"With power={}, alpha={}, base_ctr={} and minimal effect={} we expect to have {} per variation\".format(power,\n",
    "                                                                                                alpha,\n",
    "                                                                                                p,\n",
    "                                                                                                min_effect,\n",
    "                                                                                                n))"
   ]
  },
  {
   "cell_type": "markdown",
   "metadata": {},
   "source": [
    "Еще пример"
   ]
  },
  {
   "cell_type": "code",
   "execution_count": 20,
   "metadata": {},
   "outputs": [
    {
     "name": "stdout",
     "output_type": "stream",
     "text": [
      "With power=0.8, alpha=0.05, base_ctr=0.01 and minimal effect=0.1 we expect to have 163096 per variation\n"
     ]
    }
   ],
   "source": [
    "p = 0.01\n",
    "min_effect = 0.1\n",
    "n = sample_power_probtest(p, p*(1+min_effect), power=power, sig=alpha)\n",
    "print(\"With power={}, alpha={}, base_ctr={} and minimal effect={} we expect to have {} per variation\".format(power,\n",
    "                                                                                                alpha,\n",
    "                                                                                                p,\n",
    "                                                                                                min_effect,\n",
    "                                                                                                n))"
   ]
  },
  {
   "cell_type": "markdown",
   "metadata": {},
   "source": [
    "### Важные моменты"
   ]
  },
  {
   "cell_type": "markdown",
   "metadata": {},
   "source": [
    "### 1. как может быть устроено разбиение выборки на группы"
   ]
  },
  {
   "cell_type": "markdown",
   "metadata": {},
   "source": [
    "Часто для этого используется отдельный сервис, который умеет для выбранного user_id возвращать группу (причем в рамках одного теста одну и ту же)"
   ]
  },
  {
   "cell_type": "markdown",
   "metadata": {},
   "source": [
    "Основные способы разбиения:"
   ]
  },
  {
   "cell_type": "markdown",
   "metadata": {},
   "source": [
    "### Random\n",
    "\n",
    "<img src=\"sampling_random.png\" alt=\"random split\" style=\"width: 600px;\" align=\"center\"/>"
   ]
  },
  {
   "cell_type": "markdown",
   "metadata": {},
   "source": [
    "### Stratified random\n",
    "\n",
    "<img src=\"sampling_stratified.png\" alt=\"strat random split\" style=\"width: 600px;\" align=\"center\"/>"
   ]
  },
  {
   "cell_type": "markdown",
   "metadata": {},
   "source": [
    "Какой вариант предпочтительнее - ответ зависит от объемов аудитории преимущественно и того, насколько смещенной получается случайная выборка относительно генеральной совокупности"
   ]
  },
  {
   "cell_type": "markdown",
   "metadata": {},
   "source": [
    "### 2. Контрольный сегмент (как оценить вклад ML-решения в целом)"
   ]
  },
  {
   "cell_type": "markdown",
   "metadata": {},
   "source": [
    "Таким образом, у нас теперь есть представление, как сравнивать между собой разные варианты. \n",
    "\n",
    "Однако на практике также может возникнуть вопрос, а какой вклад ML в целом. Т.е если мы представим ситуацию, что никаких изменений на основе ML нет, так бы выглядел сервис в таком случае? (в плане бизнес-метрик)"
   ]
  },
  {
   "cell_type": "markdown",
   "metadata": {},
   "source": [
    "Чтобы ответить на этот вопрос, иногда выделяют так называемый <b>контрольный сегмент</b> - пользователей, которых никогда не затрагивают изменения на базе машинного обучения.\n",
    "\n",
    "Например, если мы внедряем систему рекомендаций, то пользователи из контрольного сегмента не увидят эти рекомендации. \n",
    "\n",
    "Обычно контрольный сегмент небольшой."
   ]
  },
  {
   "cell_type": "markdown",
   "metadata": {},
   "source": [
    "### 3. Когда вариантов несколько"
   ]
  },
  {
   "cell_type": "markdown",
   "metadata": {},
   "source": [
    "1. поправка Бонферонни - https://en.wikipedia.org/wiki/Bonferroni_correction\n",
    "\n",
    "Идея простая - для каждого попарного сравнения (пусть будет m таких сравнений) заменить alpha на alpha/m\n"
   ]
  },
  {
   "cell_type": "markdown",
   "metadata": {},
   "source": [
    "Прекрасная ссылка для чтения на дом - https://changyaochen.github.io/multiple-comparisons-jun-2020/"
   ]
  },
  {
   "cell_type": "markdown",
   "metadata": {},
   "source": [
    "### Домашнее задание\n",
    "\n",
    "#### 1. Если мы рассчитали 95% доверительный интервал для среднего значения, то какие из следующих утверждений являются верными?\n",
    "\n",
    "Выберите несколько вариантов и попытайтесь объяснить свой выбор:\n",
    "\n",
    "1) Если многократно повторять эксперимент, то 95 % выборочных средних значений будут принадлежать рассчитанному нами доверительному интервалу.\n",
    "\n",
    "2) Мы можем быть на 95% уверены, что среднее значение в генеральной совокупности принадлежит рассчитанному доверительному интервалу.\n",
    "\n",
    "3) Если многократно повторять эксперимент, для каждой выборки рассчитывать свой доверительный интервал, то в 95 % случаев истинное среднее будет находиться внутри доверительного интервала.\n",
    "\n",
    "4) Среднее значение в генеральной совокупности точно превышает нижнюю границу 95% доверительного интервала.\n",
    "\n",
    "5) Среднее значение в генеральной совокупности точно принадлежит рассчитанному доверительному интервалу.\n",
    "\n",
    "#### 2. Если мы увеличиваем объем выборки в два раза (при условии, что показатель стандартного отклонения остается неизменным), то 95% доверительный интервал\n",
    "\n",
    "Выберите один вариант из списка\n",
    "\n",
    "1) стал более узким\n",
    "2) возможны оба варианта\n",
    "3) стал более широким\n",
    "\n",
    "#### 3. В центре 95% доверительного интервала, рассчитанного по выборочным значениям, находится:\n",
    "\n",
    "Выберите один вариант из списка\n",
    "\n",
    "1) Значение стандартной ошибки среднего\n",
    "2) Выборочное среднее значение\n",
    "3) Среднее значение генеральной совокупности\n",
    "\n",
    "#### 4. Часто на практике нулевая гипотеза отклоняется, и различия считаются статистически достоверными, если p < 0,05. Однако часто в статистике используется более жесткий критерий достоверности различий, например, при условии, что p < 0,01. Значение p-уровня значимости, которое выбирается, в качестве порога обозначается буквой α (альфа). Например, если исследователь решил, что α = 0,05, то и нулевая гипотеза будет отклоняться при условии, что p < 0,05. \n",
    "\n",
    "#### Если в определенной ситуации весьма рискованно отклонить нулевую гипотезу, когда она на самом деле верна, то лучше использовать показатель α равный \n",
    "\n",
    "Выберите один вариант из списка\n",
    "\n",
    "1) 0,1\n",
    "2) 0,001\n",
    "3) 0,05\n",
    "4) 0,5\n",
    "\n",
    "#### 5. Данные некоторого исследования сообщают нам, что средний рост детей в 14 лет составляет 166 сантиметров. Однако это лишь выборочная оценка, и исследователи рассчитали 95% доверительный интервал, который составил [160, 172]. Укажите верные утверждения:\n",
    "\n",
    "Выберите несколько вариантов и попытайтесь объяснить свой выбор:\n",
    "\n",
    "1) У нас достаточно оснований отклонить нулевую гипотезу, что среднее в генеральной совокупности равняется 173\n",
    "2) Вероятность того, что истинное среднее значение больше 172, составляет 0,01\n",
    "3) У нас достаточно оснований отклонить нулевую гипотезу, что среднее в генеральной совокупности равняется 158.\n",
    "4) Доверительный интервал не может иметь такие границы, т. к. выборочное стандартное отклонение равняется 10, следовательно доверительный интервал должен быть значительно шире.\n",
    "\n",
    "#### 6. Предположим, нулевой гипотезой вашего исследования являлось предположение, что конверсия в генеральной совокупности равняется 0.4. Вы получили p = 0,12 и не смогли отклонить нулевую гипотезу. Однако позже выяснилось, что конверсия в генеральной совокупности действиетльно равна 0.4. Как можно оценить результаты?\n",
    "\n",
    "\n",
    "Какой вариант корректный по вашему мнению и почему?\n",
    "1) Вы не совершали ни ошибку первого рода, ни ошибку второго рода.\n",
    "2) Вы совершили ошибку первого рода\n",
    "3) Вы совершили ошибку второго рода"
   ]
  },
  {
   "cell_type": "code",
   "execution_count": null,
   "metadata": {},
   "outputs": [],
   "source": []
  }
 ],
 "metadata": {
  "kernelspec": {
   "display_name": "Python 3 (ipykernel)",
   "language": "python",
   "name": "python3"
  },
  "language_info": {
   "codemirror_mode": {
    "name": "ipython",
    "version": 3
   },
   "file_extension": ".py",
   "mimetype": "text/x-python",
   "name": "python",
   "nbconvert_exporter": "python",
   "pygments_lexer": "ipython3",
   "version": "3.9.12"
  }
 },
 "nbformat": 4,
 "nbformat_minor": 2
}
